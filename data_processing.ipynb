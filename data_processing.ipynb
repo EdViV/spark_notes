{
 "cells": [
  {
   "cell_type": "code",
   "execution_count": 1,
   "id": "fd4358c1-ddc8-43ff-b61f-c634c7fbed5e",
   "metadata": {},
   "outputs": [],
   "source": [
    "from pyspark.sql import SparkSession\n",
    "\n",
    "spark = SparkSession. \\\n",
    "    builder. \\\n",
    "    config('spark.ui.port', '0'). \\\n",
    "    config(\"spark.sql.warehouse.dir\", f\"/user/evivancovid/warehouse\"). \\\n",
    "    enableHiveSupport(). \\\n",
    "    appName(f'evivancovid | Python - Data Processing - Overview'). \\\n",
    "    master('yarn'). \\\n",
    "    getOrCreate()"
   ]
  },
  {
   "cell_type": "code",
   "execution_count": 2,
   "id": "43581edc-4edd-47c2-ba96-68a9ba44f30b",
   "metadata": {},
   "outputs": [
    {
     "data": {
      "text/html": [
       "\n",
       "            <div>\n",
       "                <p><b>SparkSession - hive</b></p>\n",
       "                \n",
       "        <div>\n",
       "            <p><b>SparkContext</b></p>\n",
       "\n",
       "            <p><a href=\"http://instance-1.us-west4-b.c.crypto-plexus-347620.internal:41563\">Spark UI</a></p>\n",
       "\n",
       "            <dl>\n",
       "              <dt>Version</dt>\n",
       "                <dd><code>v2.4.7</code></dd>\n",
       "              <dt>Master</dt>\n",
       "                <dd><code>yarn</code></dd>\n",
       "              <dt>AppName</dt>\n",
       "                <dd><code>evivancovid | Python - Data Processing - Overview</code></dd>\n",
       "            </dl>\n",
       "        </div>\n",
       "        \n",
       "            </div>\n",
       "        "
      ],
      "text/plain": [
       "<pyspark.sql.session.SparkSession at 0x7fa9b824bdd8>"
      ]
     },
     "execution_count": 2,
     "metadata": {},
     "output_type": "execute_result"
    }
   ],
   "source": [
    "spark"
   ]
  },
  {
   "cell_type": "code",
   "execution_count": 3,
   "id": "603c00af-94f8-4604-933a-72bbe6a2ba15",
   "metadata": {},
   "outputs": [],
   "source": [
    "pokemon = [(\"Squirtle\", \"Water\", 7, 314),\n",
    "           (\"Bulbasaur\", \"Grass\", 1, 318),\n",
    "           (\"Charmander\", \"Fire\", 4, 309),\n",
    "           (\"Caterpie\", \"Bug\", 10, 195)]"
   ]
  },
  {
   "cell_type": "code",
   "execution_count": 4,
   "id": "01acc1bd-c38b-4d41-a523-e2366bbfab53",
   "metadata": {},
   "outputs": [
    {
     "data": {
      "text/plain": [
       "list"
      ]
     },
     "execution_count": 4,
     "metadata": {},
     "output_type": "execute_result"
    }
   ],
   "source": [
    "type(pokemon)"
   ]
  },
  {
   "cell_type": "code",
   "execution_count": 5,
   "id": "fbebba4a-c211-4442-979e-df9567a93ab9",
   "metadata": {},
   "outputs": [
    {
     "data": {
      "text/plain": [
       "('Charmander', 'Fire', 4, 309)"
      ]
     },
     "execution_count": 5,
     "metadata": {},
     "output_type": "execute_result"
    }
   ],
   "source": [
    "pokemon[2]"
   ]
  },
  {
   "cell_type": "code",
   "execution_count": 6,
   "id": "56060206-cbe7-4b27-890c-e2027e2c350f",
   "metadata": {},
   "outputs": [],
   "source": [
    "pokemonDF = spark.createDataFrame(pokemon, schema = [\"name\", \"type\", \"number\",\"total\"])"
   ]
  },
  {
   "cell_type": "code",
   "execution_count": 7,
   "id": "0cc3f294-b3a4-4258-afc8-bd519d7c57f1",
   "metadata": {},
   "outputs": [
    {
     "data": {
      "text/plain": [
       "pyspark.sql.dataframe.DataFrame"
      ]
     },
     "execution_count": 7,
     "metadata": {},
     "output_type": "execute_result"
    }
   ],
   "source": [
    "type(pokemonDF)"
   ]
  },
  {
   "cell_type": "code",
   "execution_count": 10,
   "id": "79301913-0ebe-4ccf-b77f-a75c675bc9e9",
   "metadata": {},
   "outputs": [
    {
     "data": {
      "text/html": [
       "<table border='1'>\n",
       "<tr><th>databaseName</th></tr>\n",
       "<tr><td>default</td></tr>\n",
       "<tr><td>nyse_db</td></tr>\n",
       "</table>\n"
      ],
      "text/plain": [
       "+------------+\n",
       "|databaseName|\n",
       "+------------+\n",
       "|     default|\n",
       "|     nyse_db|\n",
       "+------------+"
      ]
     },
     "execution_count": 10,
     "metadata": {},
     "output_type": "execute_result"
    }
   ],
   "source": [
    "spark.sql(\"\"\"SHOW databases\"\"\")"
   ]
  },
  {
   "cell_type": "code",
   "execution_count": 11,
   "id": "c3a5f77b-4f7d-4940-a564-df840ceac7b3",
   "metadata": {},
   "outputs": [
    {
     "data": {
      "text/html": [
       "<table border='1'>\n",
       "<tr><th></th></tr>\n",
       "</table>\n"
      ],
      "text/plain": [
       "++\n",
       "||\n",
       "++\n",
       "++"
      ]
     },
     "execution_count": 11,
     "metadata": {},
     "output_type": "execute_result"
    }
   ],
   "source": [
    "spark.sql(\"\"\"USE nyse_db\"\"\")"
   ]
  },
  {
   "cell_type": "code",
   "execution_count": 14,
   "id": "a438174e-7798-4e3b-b15c-13ae18a26241",
   "metadata": {},
   "outputs": [],
   "source": [
    "nyse2010 = spark.sql(\"\"\"SELECT * FROM nyse_2010\"\"\")"
   ]
  },
  {
   "cell_type": "code",
   "execution_count": 15,
   "id": "1f6fc255-1030-42b6-979a-1ea7505ccd9a",
   "metadata": {},
   "outputs": [
    {
     "data": {
      "text/plain": [
       "pyspark.sql.dataframe.DataFrame"
      ]
     },
     "execution_count": 15,
     "metadata": {},
     "output_type": "execute_result"
    }
   ],
   "source": [
    "type(nyse2010)"
   ]
  },
  {
   "cell_type": "code",
   "execution_count": 12,
   "id": "85b1385f-417d-4f2e-afbe-8c00df9c5a2f",
   "metadata": {},
   "outputs": [
    {
     "name": "stdout",
     "output_type": "stream",
     "text": [
      "root\n",
      " |-- name: string (nullable = true)\n",
      " |-- type: string (nullable = true)\n",
      " |-- number: long (nullable = true)\n",
      " |-- total: long (nullable = true)\n",
      "\n"
     ]
    }
   ],
   "source": [
    "pokemonDF.printSchema()"
   ]
  },
  {
   "cell_type": "code",
   "execution_count": null,
   "id": "d83fee98-71e0-41f4-b9c0-4005d0199f2a",
   "metadata": {},
   "outputs": [],
   "source": []
  },
  {
   "cell_type": "code",
   "execution_count": null,
   "id": "16b440b9-ad2d-4a77-af6b-6c94eecd6cb9",
   "metadata": {},
   "outputs": [],
   "source": []
  },
  {
   "cell_type": "code",
   "execution_count": 13,
   "id": "4c0f857f-de0b-46fd-97b3-f450d7e26afe",
   "metadata": {},
   "outputs": [
    {
     "data": {
      "text/plain": [
       "StructType(List(StructField(name,StringType,true),StructField(type,StringType,true),StructField(number,LongType,true),StructField(total,LongType,true)))"
      ]
     },
     "execution_count": 13,
     "metadata": {},
     "output_type": "execute_result"
    }
   ],
   "source": [
    "pokemonDF.schema"
   ]
  },
  {
   "cell_type": "code",
   "execution_count": 18,
   "id": "68d8a5fd-3d67-4068-a7c1-5b722750a32f",
   "metadata": {},
   "outputs": [],
   "source": [
    "pokemon_schema = pokemonDF.schema"
   ]
  },
  {
   "cell_type": "code",
   "execution_count": 19,
   "id": "414f5487-45d7-4e15-90e0-c6921c7401a7",
   "metadata": {},
   "outputs": [],
   "source": [
    "pokemon2 = [(\"Wartortle\", \"Water\", 8, 405),\n",
    "           (\"Ivysaur\", \"Grass\", 2, 405),\n",
    "           (\"Charmeleon\", \"Fire\", 5, 405),\n",
    "           (\"Metapod\", \"Bug\", 11, 205)]"
   ]
  },
  {
   "cell_type": "code",
   "execution_count": 20,
   "id": "b930cb1b-a1a7-4ceb-9082-23bbfc4fc222",
   "metadata": {},
   "outputs": [
    {
     "data": {
      "text/plain": [
       "pyspark.sql.types.StructType"
      ]
     },
     "execution_count": 20,
     "metadata": {},
     "output_type": "execute_result"
    }
   ],
   "source": [
    "type(pokemon_schema)"
   ]
  },
  {
   "cell_type": "code",
   "execution_count": 22,
   "id": "69485a26-1e57-4119-9bad-b78ee26a0656",
   "metadata": {},
   "outputs": [],
   "source": [
    "pokemon2DF = spark.createDataFrame(pokemon2,schema = pokemon_schema)"
   ]
  },
  {
   "cell_type": "code",
   "execution_count": 23,
   "id": "26d6bf45-c399-46ef-ae81-b0f34d0e4683",
   "metadata": {},
   "outputs": [
    {
     "data": {
      "text/html": [
       "<table border='1'>\n",
       "<tr><th>name</th><th>type</th><th>number</th><th>total</th></tr>\n",
       "<tr><td>Wartortle</td><td>Water</td><td>8</td><td>405</td></tr>\n",
       "<tr><td>Ivysaur</td><td>Grass</td><td>2</td><td>405</td></tr>\n",
       "<tr><td>Charmeleon</td><td>Fire</td><td>5</td><td>405</td></tr>\n",
       "<tr><td>Metapod</td><td>Bug</td><td>11</td><td>205</td></tr>\n",
       "</table>\n"
      ],
      "text/plain": [
       "+----------+-----+------+-----+\n",
       "|      name| type|number|total|\n",
       "+----------+-----+------+-----+\n",
       "| Wartortle|Water|     8|  405|\n",
       "|   Ivysaur|Grass|     2|  405|\n",
       "|Charmeleon| Fire|     5|  405|\n",
       "|   Metapod|  Bug|    11|  205|\n",
       "+----------+-----+------+-----+"
      ]
     },
     "execution_count": 23,
     "metadata": {},
     "output_type": "execute_result"
    }
   ],
   "source": [
    "pokemon2DF"
   ]
  },
  {
   "cell_type": "code",
   "execution_count": 25,
   "id": "282090ff-0ef8-449d-91aa-99c7d17e91d2",
   "metadata": {},
   "outputs": [
    {
     "data": {
      "text/plain": [
       "pyspark.sql.dataframe.DataFrame"
      ]
     },
     "execution_count": 25,
     "metadata": {},
     "output_type": "execute_result"
    }
   ],
   "source": [
    "type(pokemonDF)"
   ]
  },
  {
   "cell_type": "code",
   "execution_count": null,
   "id": "e391a857-6c1a-4496-abe6-7be4e1346a72",
   "metadata": {},
   "outputs": [],
   "source": [
    "spark."
   ]
  }
 ],
 "metadata": {
  "kernelspec": {
   "display_name": "Pyspark 2",
   "language": "python",
   "name": "pyspark2"
  },
  "language_info": {
   "codemirror_mode": {
    "name": "ipython",
    "version": 3
   },
   "file_extension": ".py",
   "mimetype": "text/x-python",
   "name": "python",
   "nbconvert_exporter": "python",
   "pygments_lexer": "ipython3",
   "version": "3.6.9"
  }
 },
 "nbformat": 4,
 "nbformat_minor": 5
}
