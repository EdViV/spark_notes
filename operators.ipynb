{
 "cells": [
  {
   "cell_type": "markdown",
   "id": "977c8f19-7ab4-4904-a6de-17604f9e44ce",
   "metadata": {},
   "source": [
    "# Boolean Operators\n",
    "\n",
    "If we want to validate against multiple columns we need to used BOOLEAN operators such as **AND** or **OR**.\n",
    "\n",
    "\n",
    "1. **Example SQL Style**\n",
    "\n",
    "    airtraffic.filter(\"IsDepDelayed = 'YES' AND IsArrDelayed = 'NO'\n",
    "    AND Cancelled = 0\").show()\n",
    "    \n",
    "    \n",
    "2. **Example DataFrame Style**\n",
    "\n",
    "    airtraffic. \\\n",
    "    filter((col(\"IsDepDelayed\") == \"YES\") & \n",
    "           (col(\"IsArrDelayed\") == \"NO\") &\n",
    "           (col(\"Cancelled\") == 0)\n",
    "          ). \\\n",
    "    count()"
   ]
  },
  {
   "cell_type": "markdown",
   "id": "ce8c7adb-37b1-4f84-b718-0c6fcce89cc9",
   "metadata": {},
   "source": [
    "# IN Operator\n",
    "\n",
    "The **IN** operator is an alternative for the boolean **OR** when we are comparing a single column with multiple values using the equal condition.\n",
    "\n",
    "1. **Example SQL Style**\n",
    "\n",
    "    airtraffic.filter(\"Origin **IN** ('ORD', 'DFW', 'ATL', 'LAX',\n",
    "    'SFO')\").count()\n",
    "    \n",
    "    \n",
    "2. **Example DataFrame Style**\n",
    "\n",
    "    airtraffic.filter(col(\"Origin\")**.isin**(\"ORD\", \"DFW\", \"ATL\", \"LAX\",\n",
    "    \"SFO\")).count()"
   ]
  },
  {
   "cell_type": "markdown",
   "id": "88923a0c-26f7-41fa-a142-8be3da765fdc",
   "metadata": {},
   "source": [
    "# LIKE Operator\n",
    "\n",
    "**LIKE** operator or **like()** function is primarily used to make partial comparisons (Search for names that start with \"e\").\n",
    "\n",
    "We can use like to get results which starts with a pattern or ends with a pattern or contains the pattern.\n",
    "\n",
    "We can also use negation with **like**. Spark also provides **rlike** to take care of partial comparison using regular expression.\n",
    "\n",
    "1. **Example SQL Style**\n",
    "\n",
    "    employeesDF.filter(\"upper(first_name) LIKE 'SCO%'\").show()\n",
    "    \n",
    "    \n",
    "    \n",
    "2. **Example DataFrame Style**\n",
    "\n",
    "    employeesDF.filter(col('first_name').like('Sco%')).show()"
   ]
  },
  {
   "cell_type": "markdown",
   "id": "4bea2cf9-67c5-4b03-b57e-a70885bf3cb1",
   "metadata": {},
   "source": [
    "# Between Operator\n",
    "\n",
    "It is used in conjunction with **And** Operator to filter data from a Dataframe.\n",
    "\n",
    "1. **Example SQL Style**\n",
    "\n",
    "    airtraffic.filter(\"\"\"ArrDelay BETWEEN 15 AND 60\"\"\").count()\n",
    "    \n",
    "    \n",
    "    \n",
    "2. **Example DataFrame Style**\n",
    "\n",
    "    airtraffic.filter((col(\"ArrDelay\").between(15, 60))).count()"
   ]
  }
 ],
 "metadata": {
  "kernelspec": {
   "display_name": "Pyspark 3",
   "language": "python",
   "name": "pyspark3"
  },
  "language_info": {
   "codemirror_mode": {
    "name": "ipython",
    "version": 3
   },
   "file_extension": ".py",
   "mimetype": "text/x-python",
   "name": "python",
   "nbconvert_exporter": "python",
   "pygments_lexer": "ipython3",
   "version": "3.6.9"
  }
 },
 "nbformat": 4,
 "nbformat_minor": 5
}
