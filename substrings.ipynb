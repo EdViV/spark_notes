{
 "cells": [
  {
   "cell_type": "code",
   "execution_count": 1,
   "id": "5dfdc07a-c9dc-4d47-8580-0dad8a2c7e48",
   "metadata": {},
   "outputs": [],
   "source": [
    "from pyspark.sql import SparkSession\n",
    "\n",
    "spark = SparkSession. \\\n",
    "    builder. \\\n",
    "    config('spark.ui.port', '0'). \\\n",
    "    config(\"spark.sql.warehouse.dir\", f\"/user/evivancovid/warehouse\"). \\\n",
    "    enableHiveSupport(). \\\n",
    "    appName(f'evivancovid | Python - Data Processing - Overview'). \\\n",
    "    master('yarn'). \\\n",
    "    getOrCreate()"
   ]
  },
  {
   "cell_type": "code",
   "execution_count": 13,
   "id": "5032cfff-fe31-4989-ac77-ef19a5cf47ed",
   "metadata": {},
   "outputs": [],
   "source": [
    "employees = [(1, \"Scott\", \"Tiger\", 1000.0, \n",
    "                      \"united states\", \"+1 123 456 7890\", \"123 45 6789\"\n",
    "                     ),\n",
    "                     (2, \"Henry\", \"Ford\", 1250.0, \n",
    "                      \"India\", \"+91 234 567 8901\", \"456 78 9123\"\n",
    "                     ),\n",
    "                     (3, \"Nick\", \"Junior\", 750.0, \n",
    "                      \"united KINGDOM\", \"+44 111 111 1111\", \"222 33 4444\"\n",
    "                     ),\n",
    "                     (4, \"Bill\", \"Gomes\", 1500.0, \n",
    "                      \"AUSTRALIA\", \"+61 987 654 3210\", \"789 12 6118\"\n",
    "                     )\n",
    "                ]"
   ]
  },
  {
   "cell_type": "code",
   "execution_count": 14,
   "id": "83ba6941-c120-455a-a3bb-cc03112db107",
   "metadata": {},
   "outputs": [],
   "source": [
    "employeesDF = spark.createDataFrame(employees,\n",
    "                                    schema = \"\"\"employee_id INT,first_name STRING,\n",
    "                                    last_name STRING, salary FLOAT, nationality STRING,\n",
    "                                    phone_number STRING, ssn STRING\"\"\")"
   ]
  },
  {
   "cell_type": "code",
   "execution_count": 4,
   "id": "af06f0d4-3be3-4046-89d9-81b92883ca0d",
   "metadata": {},
   "outputs": [
    {
     "name": "stdout",
     "output_type": "stream",
     "text": [
      "+-----------+----------+---------+------+--------------+----------------+-----------+\n",
      "|employee_id|first_name|last_name|salary|   nationality|    phone_number|        ssn|\n",
      "+-----------+----------+---------+------+--------------+----------------+-----------+\n",
      "|          1|     Scott|    Tiger|1000.0| united states| +1 123 456 7890|123 45 6789|\n",
      "|          2|     Henry|     Ford|1250.0|         India|+91 234 567 8901|456 78 9123|\n",
      "|          3|      Nick|   Junior| 750.0|united KINGDOM|+44 111 111 1111|222 33 4444|\n",
      "|          4|      Bill|    Gomes|1500.0|     AUSTRALIA|+61 987 654 3210|789 12 6118|\n",
      "+-----------+----------+---------+------+--------------+----------------+-----------+\n",
      "\n"
     ]
    }
   ],
   "source": [
    "employeesDF.show()"
   ]
  },
  {
   "cell_type": "markdown",
   "id": "d2e7c96b-9ff3-43fc-a25b-a24e4c4f2603",
   "metadata": {},
   "source": [
    "Extracting Substrings using substring() function"
   ]
  },
  {
   "cell_type": "code",
   "execution_count": 5,
   "id": "31eb2820-33dd-4bc3-9a13-d4ec1bd553e1",
   "metadata": {},
   "outputs": [],
   "source": [
    "from pyspark.sql.functions import substring, lit, col"
   ]
  },
  {
   "cell_type": "code",
   "execution_count": 6,
   "id": "83bf2086-c49b-4bbc-a444-00ecce159510",
   "metadata": {},
   "outputs": [
    {
     "name": "stdout",
     "output_type": "stream",
     "text": [
      "+----------+----------------+-----------+------------+----------+\n",
      "|first_name|    phone_number|        ssn|phone_last_4|ssn_last_4|\n",
      "+----------+----------------+-----------+------------+----------+\n",
      "|     Scott| +1 123 456 7890|123 45 6789|        7890|      6789|\n",
      "|     Henry|+91 234 567 8901|456 78 9123|        8901|      9123|\n",
      "|      Nick|+44 111 111 1111|222 33 4444|        1111|      4444|\n",
      "|      Bill|+61 987 654 3210|789 12 6118|        3210|      6118|\n",
      "+----------+----------------+-----------+------------+----------+\n",
      "\n"
     ]
    }
   ],
   "source": [
    "employeesDF.select(\"first_name\", \"phone_number\", \"ssn\"). \\\n",
    "withColumn(\"phone_last_4\", substring(col(\"phone_number\"),-4,4)). \\\n",
    "withColumn(\"ssn_last_4\", substring(col(\"ssn\"),-4,4)). \\\n",
    "show()"
   ]
  },
  {
   "cell_type": "markdown",
   "id": "dac373fa-1e5b-4da2-ae37-aa85132d0f7e",
   "metadata": {},
   "source": [
    "Extracting substrings using split() function"
   ]
  },
  {
   "cell_type": "code",
   "execution_count": 7,
   "id": "83d85e96-be0e-4b67-be47-db422f8dee7f",
   "metadata": {},
   "outputs": [],
   "source": [
    "from pyspark.sql.functions import split, explode, lit"
   ]
  },
  {
   "cell_type": "code",
   "execution_count": 8,
   "id": "148ff827-f9c5-4df8-a8f1-af508b3c0eed",
   "metadata": {},
   "outputs": [],
   "source": [
    "l = [('X', )]"
   ]
  },
  {
   "cell_type": "code",
   "execution_count": 9,
   "id": "9fd4c385-fbb5-4cf0-9f67-11f7b71934ac",
   "metadata": {},
   "outputs": [],
   "source": [
    "df = spark.createDataFrame(l, \"dummy STRING\")"
   ]
  },
  {
   "cell_type": "code",
   "execution_count": 10,
   "id": "766e201f-fe82-46b5-80ea-5642a42620ea",
   "metadata": {},
   "outputs": [
    {
     "name": "stdout",
     "output_type": "stream",
     "text": [
      "+--------------------------------------+\n",
      "|split(Hello World, how are you,  , -1)|\n",
      "+--------------------------------------+\n",
      "|[Hello, World,, how, are, you]        |\n",
      "+--------------------------------------+\n",
      "\n"
     ]
    }
   ],
   "source": [
    "df.select(split(lit(\"Hello World, how are you\"), \" \")). \\\n",
    "    show(truncate=False)"
   ]
  },
  {
   "cell_type": "code",
   "execution_count": 11,
   "id": "e03136fb-0653-4757-8710-d6d97de74998",
   "metadata": {},
   "outputs": [
    {
     "name": "stdout",
     "output_type": "stream",
     "text": [
      "+-----------------------------------------+\n",
      "|split(Hello World, how are you,  , -1)[2]|\n",
      "+-----------------------------------------+\n",
      "|how                                      |\n",
      "+-----------------------------------------+\n",
      "\n"
     ]
    }
   ],
   "source": [
    "df.select(split(lit(\"Hello World, how are you\"), \" \")[2]). \\\n",
    "    show(truncate=False)"
   ]
  },
  {
   "cell_type": "code",
   "execution_count": 12,
   "id": "fb383619-5a4d-4f4b-bcd9-d6be494569aa",
   "metadata": {},
   "outputs": [
    {
     "name": "stdout",
     "output_type": "stream",
     "text": [
      "+------+\n",
      "|word  |\n",
      "+------+\n",
      "|Hello |\n",
      "|World,|\n",
      "|how   |\n",
      "|are   |\n",
      "|you   |\n",
      "+------+\n",
      "\n"
     ]
    }
   ],
   "source": [
    "df.select(explode(split(lit(\"Hello World, how are you\"), \" \")).alias(\"word\")). \\\n",
    "    show(truncate=False)"
   ]
  },
  {
   "cell_type": "code",
   "execution_count": 18,
   "id": "d32439ee-13f4-4cc6-8f9e-21d1463716e2",
   "metadata": {},
   "outputs": [
    {
     "name": "stdout",
     "output_type": "stream",
     "text": [
      "+----------+----------------+-----------+---------+------------+---------+\n",
      "|first_name|    phone_number|        ssn|area_code|phone_last_4|ssn_las_4|\n",
      "+----------+----------------+-----------+---------+------------+---------+\n",
      "|     Scott| +1 123 456 7890|123 45 6789|       +1|        7890|     6789|\n",
      "|     Henry|+91 234 567 8901|456 78 9123|      +91|        8901|     9123|\n",
      "|      Nick|+44 111 111 1111|222 33 4444|      +44|        1111|     4444|\n",
      "|      Bill|+61 987 654 3210|789 12 6118|      +61|        3210|     6118|\n",
      "+----------+----------------+-----------+---------+------------+---------+\n",
      "\n"
     ]
    }
   ],
   "source": [
    "employeesDF.select(\"first_name\", \"phone_number\", \"ssn\"). \\\n",
    "withColumn(\"area_code\", split(col(\"phone_number\"),\" \")[0]). \\\n",
    "withColumn(\"phone_last_4\", split(col(\"phone_number\"),\" \")[3]). \\\n",
    "withColumn(\"ssn_las_4\", split(col(\"ssn\"),\" \")[2]). \\\n",
    "show()"
   ]
  },
  {
   "cell_type": "code",
   "execution_count": 1,
   "id": "0cc1d859-3fb0-4bb5-9fec-a59e99659041",
   "metadata": {},
   "outputs": [
    {
     "ename": "NameError",
     "evalue": "name 'substring' is not defined",
     "output_type": "error",
     "traceback": [
      "\u001b[0;31m---------------------------------------------------------------------------\u001b[0m",
      "\u001b[0;31mNameError\u001b[0m                                 Traceback (most recent call last)",
      "\u001b[0;32m<ipython-input-1-486bed436262>\u001b[0m in \u001b[0;36m<module>\u001b[0;34m\u001b[0m\n\u001b[0;32m----> 1\u001b[0;31m \u001b[0mhelp\u001b[0m\u001b[0;34m(\u001b[0m\u001b[0msubstring\u001b[0m\u001b[0;34m)\u001b[0m\u001b[0;34m\u001b[0m\u001b[0;34m\u001b[0m\u001b[0m\n\u001b[0m",
      "\u001b[0;31mNameError\u001b[0m: name 'substring' is not defined"
     ]
    }
   ],
   "source": [
    "help(substring)"
   ]
  },
  {
   "cell_type": "code",
   "execution_count": null,
   "id": "c1315a21-7fa0-41ab-b823-9caa7fce8d61",
   "metadata": {},
   "outputs": [],
   "source": []
  }
 ],
 "metadata": {
  "kernelspec": {
   "display_name": "Pyspark 3",
   "language": "python",
   "name": "pyspark3"
  },
  "language_info": {
   "codemirror_mode": {
    "name": "ipython",
    "version": 3
   },
   "file_extension": ".py",
   "mimetype": "text/x-python",
   "name": "python",
   "nbconvert_exporter": "python",
   "pygments_lexer": "ipython3",
   "version": "3.6.9"
  }
 },
 "nbformat": 4,
 "nbformat_minor": 5
}
