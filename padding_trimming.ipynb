{
 "cells": [
  {
   "cell_type": "code",
   "execution_count": 2,
   "id": "ab51a83c-b561-418e-bf81-834fd7402c89",
   "metadata": {},
   "outputs": [],
   "source": [
    "from pyspark.sql import SparkSession\n",
    "\n",
    "spark = SparkSession. \\\n",
    "    builder. \\\n",
    "    config('spark.ui.port', '0'). \\\n",
    "    config(\"spark.sql.warehouse.dir\", f\"/user/evivancovid/warehouse\"). \\\n",
    "    enableHiveSupport(). \\\n",
    "    appName(f'evivancovid | Python - Data Processing - Overview'). \\\n",
    "    master('yarn'). \\\n",
    "    getOrCreate()"
   ]
  },
  {
   "cell_type": "code",
   "execution_count": 3,
   "id": "607c5fd9-5cf1-477e-bd10-fea9010299f8",
   "metadata": {},
   "outputs": [],
   "source": [
    "from pyspark.sql.functions import lit, lpad, rpad, concat\n",
    "l = [('X',)]\n",
    "df = spark.createDataFrame(l).toDF(\"dummy\")"
   ]
  },
  {
   "cell_type": "markdown",
   "id": "0738d7d2-c037-4dc9-9a59-2fb50bdc1ffd",
   "metadata": {},
   "source": [
    "Padding"
   ]
  },
  {
   "cell_type": "code",
   "execution_count": 4,
   "id": "b5cbd45c-bbc4-4318-b2fd-eae095e617d2",
   "metadata": {},
   "outputs": [
    {
     "name": "stdout",
     "output_type": "stream",
     "text": [
      "+------------------+\n",
      "|lpad(Hello, 10, -)|\n",
      "+------------------+\n",
      "|        -----Hello|\n",
      "+------------------+\n",
      "\n"
     ]
    }
   ],
   "source": [
    "#Sintaxis para usar funcion pad\n",
    "df.select(lpad(lit(\"Hello\"), 10, \"-\")).show()"
   ]
  },
  {
   "cell_type": "code",
   "execution_count": 5,
   "id": "a8d17845-da68-431b-ac82-06b7903546db",
   "metadata": {},
   "outputs": [],
   "source": [
    "employees = [(1, \"Scott\", \"Tiger\", 1000.0, \n",
    "                      \"united states\", \"+1 123 456 7890\", \"123 45 6789\"\n",
    "                     ),\n",
    "                     (2, \"Henry\", \"Ford\", 1250.0, \n",
    "                      \"India\", \"+91 234 567 8901\", \"456 78 9123\"\n",
    "                     ),\n",
    "                     (3, \"Nick\", \"Junior\", 750.0, \n",
    "                      \"united KINGDOM\", \"+44 111 111 1111\", \"222 33 4444\"\n",
    "                     ),\n",
    "                     (4, \"Bill\", \"Gomes\", 1500.0, \n",
    "                      \"AUSTRALIA\", \"+61 987 654 3210\", \"789 12 6118\"\n",
    "                     )\n",
    "                ]"
   ]
  },
  {
   "cell_type": "code",
   "execution_count": 6,
   "id": "a1838225-ff44-456b-99e6-1b8ad914a131",
   "metadata": {},
   "outputs": [],
   "source": [
    "employeesDF = spark.createDataFrame(employees). \\\n",
    "    toDF(\"employee_id\", \"first_name\",\n",
    "         \"last_name\", \"salary\",\n",
    "         \"nationality\", \"phone_number\",\n",
    "         \"ssn\"\n",
    "        )"
   ]
  },
  {
   "cell_type": "code",
   "execution_count": 7,
   "id": "1577bf6d-90dd-4a40-8dbb-f81f01ab5196",
   "metadata": {},
   "outputs": [
    {
     "name": "stdout",
     "output_type": "stream",
     "text": [
      "+-----------+----------+---------+------+--------------+----------------+-----------+\n",
      "|employee_id|first_name|last_name|salary|   nationality|    phone_number|        ssn|\n",
      "+-----------+----------+---------+------+--------------+----------------+-----------+\n",
      "|          1|     Scott|    Tiger|1000.0| united states| +1 123 456 7890|123 45 6789|\n",
      "|          2|     Henry|     Ford|1250.0|         India|+91 234 567 8901|456 78 9123|\n",
      "|          3|      Nick|   Junior| 750.0|united KINGDOM|+44 111 111 1111|222 33 4444|\n",
      "|          4|      Bill|    Gomes|1500.0|     AUSTRALIA|+61 987 654 3210|789 12 6118|\n",
      "+-----------+----------+---------+------+--------------+----------------+-----------+\n",
      "\n"
     ]
    }
   ],
   "source": [
    "employeesDF.show()"
   ]
  },
  {
   "cell_type": "code",
   "execution_count": 8,
   "id": "94a08728-20b5-4612-89d7-bafd93117781",
   "metadata": {},
   "outputs": [],
   "source": [
    "empFixedDF = employeesDF.select(\n",
    "    concat(\n",
    "        lpad(\"employee_id\",5, \"0\"),\n",
    "        rpad(\"first_name\",10,\"-\"),\n",
    "        rpad(\"last_name\",10,\"-\"),\n",
    "        lpad(\"salary\",10,\"0\"),\n",
    "        rpad(\"nationality\",15,\"-\"),\n",
    "        rpad(\"phone_number\",17,\"-\"),\n",
    "        \"ssn\"\n",
    "    ).alias(\"employee\")\n",
    ")"
   ]
  },
  {
   "cell_type": "code",
   "execution_count": 9,
   "id": "96516433-dd0f-4280-83e6-87555d3095f6",
   "metadata": {},
   "outputs": [
    {
     "name": "stdout",
     "output_type": "stream",
     "text": [
      "+------------------------------------------------------------------------------+\n",
      "|employee                                                                      |\n",
      "+------------------------------------------------------------------------------+\n",
      "|00001Scott-----Tiger-----00001000.0united states--+1 123 456 7890--123 45 6789|\n",
      "|00002Henry-----Ford------00001250.0India----------+91 234 567 8901-456 78 9123|\n",
      "|00003Nick------Junior----00000750.0united KINGDOM-+44 111 111 1111-222 33 4444|\n",
      "|00004Bill------Gomes-----00001500.0AUSTRALIA------+61 987 654 3210-789 12 6118|\n",
      "+------------------------------------------------------------------------------+\n",
      "\n"
     ]
    }
   ],
   "source": [
    "empFixedDF.show(truncate=False)"
   ]
  },
  {
   "cell_type": "markdown",
   "id": "0c763aa5-eb1c-468d-b3e0-78f6e2fc2660",
   "metadata": {},
   "source": [
    "Trimming"
   ]
  },
  {
   "cell_type": "code",
   "execution_count": 10,
   "id": "2223fba6-b929-4f9d-80b0-8318d30c9e1c",
   "metadata": {},
   "outputs": [],
   "source": [
    "l = [(\"   Hello.    \",) ]\n",
    "df = spark.createDataFrame(l).toDF(\"dummy\")"
   ]
  },
  {
   "cell_type": "code",
   "execution_count": 13,
   "id": "2eaf1a0a-ff5b-49ad-9c45-549de0d5cae9",
   "metadata": {},
   "outputs": [],
   "source": [
    "from pyspark.sql.functions import lit, ltrim, rtrim, trim, col, expr"
   ]
  },
  {
   "cell_type": "code",
   "execution_count": 14,
   "id": "efa101f2-e576-48e8-82f0-942dafe3c490",
   "metadata": {},
   "outputs": [
    {
     "name": "stdout",
     "output_type": "stream",
     "text": [
      "+-------------+----------+--------+------+\n",
      "|        dummy|     ltrim|   rtrim|  trim|\n",
      "+-------------+----------+--------+------+\n",
      "|   Hello.    |Hello.    |   Hello|Hello.|\n",
      "+-------------+----------+--------+------+\n",
      "\n"
     ]
    }
   ],
   "source": [
    "# if we do not specify trimStr, it will be defaulted to space\n",
    "df.withColumn(\"ltrim\", expr(\"ltrim(dummy)\")). \\\n",
    "  withColumn(\"rtrim\", expr(\"rtrim('.', rtrim(dummy))\")). \\\n",
    "  withColumn(\"trim\", trim(col(\"dummy\"))). \\\n",
    "  show()"
   ]
  },
  {
   "cell_type": "code",
   "execution_count": 16,
   "id": "df7c6cff-4794-4502-b15f-d61d37b6e6ef",
   "metadata": {},
   "outputs": [
    {
     "name": "stdout",
     "output_type": "stream",
     "text": [
      "+-------------+----------+--------+------+\n",
      "|        dummy|     ltrim|   rtrim|  trim|\n",
      "+-------------+----------+--------+------+\n",
      "|   Hello.    |Hello.    |   Hello|Hello.|\n",
      "+-------------+----------+--------+------+\n",
      "\n"
     ]
    }
   ],
   "source": [
    "#Using SQL commands\n",
    "df.withColumn(\"ltrim\", expr(\"trim(LEADING ' ' FROM dummy)\")). \\\n",
    "  withColumn(\"rtrim\", expr(\"trim(TRAILING '.' FROM rtrim(dummy))\")). \\\n",
    "  withColumn(\"trim\", expr(\"trim(BOTH ' ' FROM dummy)\")). \\\n",
    "  show()"
   ]
  },
  {
   "cell_type": "code",
   "execution_count": null,
   "id": "03742c40-2b40-44b0-9825-bed49b9a3bd9",
   "metadata": {},
   "outputs": [],
   "source": []
  }
 ],
 "metadata": {
  "kernelspec": {
   "display_name": "Pyspark 3",
   "language": "python",
   "name": "pyspark3"
  },
  "language_info": {
   "codemirror_mode": {
    "name": "ipython",
    "version": 3
   },
   "file_extension": ".py",
   "mimetype": "text/x-python",
   "name": "python",
   "nbconvert_exporter": "python",
   "pygments_lexer": "ipython3",
   "version": "3.6.9"
  }
 },
 "nbformat": 4,
 "nbformat_minor": 5
}
