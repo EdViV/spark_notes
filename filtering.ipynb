{
 "cells": [
  {
   "cell_type": "markdown",
   "id": "d82b304b-0574-4a43-993c-eec7223d44b6",
   "metadata": {},
   "source": [
    "Filtering can be done either by using **filter** or **where**. \n",
    "\n",
    "When it comes to the conditions, it can be passed either in SQL style or DataFrame style. Note in SQL style that teh syntax for *filter* and *where* functions is the same.\n",
    "\n",
    "\n",
    "1. **Example SQL Style**\n",
    "\n",
    "    airtraffic.filter(\"IsArrDelayed = 'YES'\").show()\n",
    "                         or \n",
    "    airtraffic.where(\"IsArrDelayed = 'YES'\").show()\n",
    "    \n",
    "2. **Example DataFrame Style**\n",
    "\n",
    "    airtraffic.filter(airtraffic[\"IsArrDelayed\"] == 'YES').show()\n",
    "                                or\n",
    "    airtraffic.filter(airtraffic.IsArrDelayed == 'YES').show()\n",
    "    \n",
    "    \n",
    "Some operators that we can use to filter the date are: **!=**, **>**, < , **>=**, **<=**, **LIKE**, **BETWEEN** with **AND**"
   ]
  },
  {
   "cell_type": "code",
   "execution_count": null,
   "id": "aa70b1ec-401f-4eed-ac66-59c80979f412",
   "metadata": {},
   "outputs": [],
   "source": []
  }
 ],
 "metadata": {
  "kernelspec": {
   "display_name": "Pyspark 3",
   "language": "python",
   "name": "pyspark3"
  },
  "language_info": {
   "codemirror_mode": {
    "name": "ipython",
    "version": 3
   },
   "file_extension": ".py",
   "mimetype": "text/x-python",
   "name": "python",
   "nbconvert_exporter": "python",
   "pygments_lexer": "ipython3",
   "version": "3.6.9"
  }
 },
 "nbformat": 4,
 "nbformat_minor": 5
}
