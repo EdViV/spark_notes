{
 "cells": [
  {
   "cell_type": "markdown",
   "id": "75095a86-c477-42c4-9926-80d0e14f3d44",
   "metadata": {},
   "source": [
    "# Overview of Joins\n",
    "\n",
    "All of the data cannot be stored in one table, most of the times it will be stored in multiple tables and the tables might be related.\n",
    "\n",
    "When it comes to *transactional systems*, we typically define tables based on Normalization Principles. \n",
    "When dealing with *data warehousing* applications, we typically define tables using Dimensional Modeling.\n",
    "\n",
    "In either of the approaches dat is scattered into multiple tables and relationships are defined. Tables can be related with **one to one**, **one to many**, **many to many** relationships.\n",
    "\n",
    "We perform a **JOIN** when we have 2 DataSets that are related based on a common key. We have different types of JOINS: INNER, OUTER (LEFT OR RIGHT), FULL OUTER (LEFT, UNION, RIGHT)."
   ]
  },
  {
   "cell_type": "markdown",
   "id": "8d16cc86-aca6-4d7a-95fd-5ca42ee7d4e5",
   "metadata": {},
   "source": [
    "# INNER JOIN\n",
    "\n",
    "Joins two data sets and return the data satisfying the join condition in the form of new DataFrame.\n",
    "\n",
    "Once the DataFrame with the JOIN results si created, we can refer teh columns from both DataSets after the join using the original data frame for further processing.\n",
    "\n",
    "\n",
    "**Example**\n",
    "\n",
    "    orders_join = orders.join(\n",
    "    order_items, \n",
    "    on=orders['order_id'] == order_items['order_item_order_id'],\n",
    "    how='inner'\n",
    "    )"
   ]
  },
  {
   "cell_type": "markdown",
   "id": "17f614dc-dd57-42d8-b516-94040885b084",
   "metadata": {},
   "source": [
    "# Left or Right Outer Join\n",
    "\n",
    "Many times we want to get the data from both the data sets satisfying the join condition along with the data from the driving table which does not satisfy the join condition. We can use either left or right outer join to perform outer join to fulfill our requirements.\n",
    "\n",
    "**Example**\n",
    "\n",
    "    customer_order_details_left = customers.join(\n",
    "        orders, \n",
    "        on=customers['customer_id'] == orders['order_customer_id'],\n",
    "        how='left_outer'\n",
    "    )"
   ]
  }
 ],
 "metadata": {
  "kernelspec": {
   "display_name": "Pyspark 3",
   "language": "python",
   "name": "pyspark3"
  },
  "language_info": {
   "codemirror_mode": {
    "name": "ipython",
    "version": 3
   },
   "file_extension": ".py",
   "mimetype": "text/x-python",
   "name": "python",
   "nbconvert_exporter": "python",
   "pygments_lexer": "ipython3",
   "version": "3.6.9"
  }
 },
 "nbformat": 4,
 "nbformat_minor": 5
}
