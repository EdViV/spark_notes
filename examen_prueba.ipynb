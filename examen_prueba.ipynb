{
 "cells": [
  {
   "cell_type": "markdown",
   "id": "d7931f4b-0b40-49e1-b556-d7b67a32fe36",
   "metadata": {
    "jp-MarkdownHeadingCollapsed": true,
    "tags": []
   },
   "source": [
    "## 1. Create SparkSession Object with app specific configuration"
   ]
  },
  {
   "cell_type": "code",
   "execution_count": 1,
   "id": "69622b9b-35df-4dc4-8381-ce4d8d3b49fb",
   "metadata": {},
   "outputs": [],
   "source": [
    "from pyspark.sql import SparkSession\n",
    "\n",
    "spark = SparkSession. \\\n",
    "            builder. \\\n",
    "            appName(\"Exam-Preparation\"). \\\n",
    "            master(\"yarn\"). \\\n",
    "            config(\"spark.ui.port\", \"0\"). \\\n",
    "            enableHiveSupport(). \\\n",
    "            getOrCreate()"
   ]
  },
  {
   "cell_type": "markdown",
   "id": "6c6c3232-26cf-4bdc-a644-2dd04125717c",
   "metadata": {
    "jp-MarkdownHeadingCollapsed": true,
    "tags": []
   },
   "source": [
    "## 2. Place data in Hadoop"
   ]
  },
  {
   "cell_type": "code",
   "execution_count": 4,
   "id": "a5f5e7e3-674c-4011-adc2-8cee312ae601",
   "metadata": {},
   "outputs": [
    {
     "name": "stderr",
     "output_type": "stream",
     "text": [
      "Cloning into 'CCA175Exam'...\n"
     ]
    }
   ],
   "source": [
    "%%sh\n",
    "\n",
    "git clone https://github.com/Akashpatel579/CCA175Exam.git"
   ]
  },
  {
   "cell_type": "code",
   "execution_count": 5,
   "id": "4f36f296-f1c9-4453-a906-9362fe07804f",
   "metadata": {},
   "outputs": [],
   "source": [
    "%%sh\n",
    "\n",
    "hdfs dfs -put CCA175Exam /public/practica"
   ]
  },
  {
   "cell_type": "code",
   "execution_count": 8,
   "id": "62814837-84a3-42c7-9f5a-eb48a45fa804",
   "metadata": {},
   "outputs": [
    {
     "name": "stdout",
     "output_type": "stream",
     "text": [
      "Found 1 items\n",
      "-rw-r--r--   1 evivancovid supergroup     104703 2022-05-18 20:00 /public/practica/json/solar_hot_water_heater_data.json\n"
     ]
    }
   ],
   "source": [
    "%%sh\n",
    "\n",
    "hdfs dfs -ls /public/practica/json"
   ]
  },
  {
   "cell_type": "markdown",
   "id": "e4ec8e0f-16df-453b-a80c-2346b2e8f2a7",
   "metadata": {
    "jp-MarkdownHeadingCollapsed": true,
    "tags": []
   },
   "source": [
    "## 3. Read JSON format data to Spark DataFrame"
   ]
  },
  {
   "cell_type": "code",
   "execution_count": 9,
   "id": "19b22676-2021-4433-8066-7bdc57aa954c",
   "metadata": {},
   "outputs": [
    {
     "name": "stdout",
     "output_type": "stream",
     "text": [
      "N_DATE\": \"2016-07-15\", \"REVISION_NUM\": 0}, {\"STATUS\": \"Closed\", \"POSTAL\": \"M1R\", \"DESCRIPTION\": \"Proposal to install roof-top solar panels on existing single family detached dwelling.\", \"PERMIT_NUM\": \"16 197904\", \"STREET_NAME\": \"PRINCEWAY\", \"WORK\": \"Solar Domestic Hot Water (Res)\", \"COMPLETED_DATE\": \"2018-09-11\", \"ISSUED_DATE\": \"2016-08-18\", \"PERMIT_TYPE\": \"Small Residential Projects\", \"STREET_TYPE\": \"DR\", \"STRUCTURE_TYPE\": \"SFD - Detached\", \"STREET_DIRECTION\": \" \", \"STREET_NUM\": \"75\", \"_id\": 6723, \"APPLICATION_DATE\": \"2016-07-27\", \"REVISION_NUM\": 0}, {\"STATUS\": \"Permit Issued\", \"POSTAL\": \"M6H\", \"DESCRIPTION\": \"ROOFTOP PV SOLAR PANEL INSTALLATION\", \"PERMIT_NUM\": \"17 242944\", \"STREET_NAME\": \"PAULINE\", \"WORK\": \"Solar Domestic Hot Water (Res)\", \"COMPLETED_DATE\": null, \"ISSUED_DATE\": \"2017-10-26\", \"PERMIT_TYPE\": \"Small Residential Projects\", \"STREET_TYPE\": \"AVE\", \"STRUCTURE_TYPE\": \"SFD - Semi-Detached\", \"STREET_DIRECTION\": \" \", \"STREET_NUM\": \"44\", \"_id\": 6724, \"APPLICATION_DATE\": \"2017-10-04\", \"REVISION_NUM\": 0}]"
     ]
    }
   ],
   "source": [
    "%%sh\n",
    "\n",
    "hdfs dfs -tail /public/practica/json/solar_hot_water_heater_data.json"
   ]
  },
  {
   "cell_type": "code",
   "execution_count": 2,
   "id": "8aa155a0-c5b6-4bb7-877f-ec8cabb20e68",
   "metadata": {},
   "outputs": [],
   "source": [
    "df = spark.read.json(\"/public/practica/json/solar_hot_water_heater_data.json\")\n",
    "df2 = df"
   ]
  },
  {
   "cell_type": "code",
   "execution_count": 15,
   "id": "4856c915-04d1-4a8d-95ef-57384def2889",
   "metadata": {},
   "outputs": [
    {
     "data": {
      "text/plain": [
       "pyspark.sql.dataframe.DataFrame"
      ]
     },
     "execution_count": 15,
     "metadata": {},
     "output_type": "execute_result"
    }
   ],
   "source": [
    "type(df)"
   ]
  },
  {
   "cell_type": "markdown",
   "id": "797d84ea-e5f2-4b3f-8685-efb705a03ac7",
   "metadata": {
    "jp-MarkdownHeadingCollapsed": true,
    "tags": []
   },
   "source": [
    "## 4. Print Schema of the DataFrame"
   ]
  },
  {
   "cell_type": "code",
   "execution_count": 16,
   "id": "0233a27b-fb0f-4412-80e7-0feb3955f7e2",
   "metadata": {},
   "outputs": [
    {
     "name": "stdout",
     "output_type": "stream",
     "text": [
      "root\n",
      " |-- APPLICATION_DATE: string (nullable = true)\n",
      " |-- COMPLETED_DATE: string (nullable = true)\n",
      " |-- DESCRIPTION: string (nullable = true)\n",
      " |-- ISSUED_DATE: string (nullable = true)\n",
      " |-- PERMIT_NUM: string (nullable = true)\n",
      " |-- PERMIT_TYPE: string (nullable = true)\n",
      " |-- POSTAL: string (nullable = true)\n",
      " |-- REVISION_NUM: long (nullable = true)\n",
      " |-- STATUS: string (nullable = true)\n",
      " |-- STREET_DIRECTION: string (nullable = true)\n",
      " |-- STREET_NAME: string (nullable = true)\n",
      " |-- STREET_NUM: string (nullable = true)\n",
      " |-- STREET_TYPE: string (nullable = true)\n",
      " |-- STRUCTURE_TYPE: string (nullable = true)\n",
      " |-- WORK: string (nullable = true)\n",
      " |-- _id: long (nullable = true)\n",
      "\n"
     ]
    }
   ],
   "source": [
    "df.printSchema()"
   ]
  },
  {
   "cell_type": "markdown",
   "id": "c72af532-c6db-42f0-adfe-61a4353cf712",
   "metadata": {
    "jp-MarkdownHeadingCollapsed": true,
    "tags": []
   },
   "source": [
    "## 5. Print first 5 records, understand and use the truncate parameter"
   ]
  },
  {
   "cell_type": "code",
   "execution_count": 18,
   "id": "b597ec24-651d-4cae-aadd-076a55005247",
   "metadata": {},
   "outputs": [
    {
     "name": "stdout",
     "output_type": "stream",
     "text": [
      "+----------------+--------------+--------------------+-----------+----------+--------------------+------+------------+-------------+----------------+-----------+----------+-----------+-------------------+--------------------+----+\n",
      "|APPLICATION_DATE|COMPLETED_DATE|         DESCRIPTION|ISSUED_DATE|PERMIT_NUM|         PERMIT_TYPE|POSTAL|REVISION_NUM|       STATUS|STREET_DIRECTION|STREET_NAME|STREET_NUM|STREET_TYPE|     STRUCTURE_TYPE|                WORK| _id|\n",
      "+----------------+--------------+--------------------+-----------+----------+--------------------+------+------------+-------------+----------------+-----------+----------+-----------+-------------------+--------------------+----+\n",
      "|      2009-05-07|    2010-10-05|installation of s...| 2009-05-11| 09 135007|Small Residential...|   M4K|           0|       Closed|                |  GRANDVIEW|         4|        AVE|SFD - Semi-Detached|Solar Domestic Ho...|6561|\n",
      "|      2009-05-07|          null|Installation of a...| 2009-05-11| 09 135023|Small Residential...|   M4M|           0|   Inspection|                |      JONES|        81|        AVE|SFD - Semi-Detached|Solar Domestic Ho...|6562|\n",
      "|      2009-05-11|    2011-01-14|Proposal to insta...| 2009-05-20| 09 136204|Small Residential...|   M4J|           0|       Closed|                |   BOULTBEE|       114|        AVE|SFD - Semi-Detached|Solar Domestic Ho...|6563|\n",
      "|      2009-06-11|    2010-03-03|Permit for instal...| 2009-08-17| 09 148320|Small Residential...|   M4M|           0|       Closed|               E|    GERRARD|       899|         ST|    Converted House|Solar Domestic Ho...|6564|\n",
      "|      2009-06-11|          null|Permit for instal...| 2009-08-17| 09 148341|Small Residential...|   M4M|           0|Permit Issued|                |      LOGAN|       201|        AVE|SFD - Semi-Detached|Solar Domestic Ho...|6565|\n",
      "+----------------+--------------+--------------------+-----------+----------+--------------------+------+------------+-------------+----------------+-----------+----------+-----------+-------------------+--------------------+----+\n",
      "only showing top 5 rows\n",
      "\n"
     ]
    }
   ],
   "source": [
    "df.show(5, truncate = True)"
   ]
  },
  {
   "cell_type": "markdown",
   "id": "7b369bce-d838-486a-9d31-be4987d9f487",
   "metadata": {
    "jp-MarkdownHeadingCollapsed": true,
    "tags": []
   },
   "source": [
    "## 6. Print column names"
   ]
  },
  {
   "cell_type": "code",
   "execution_count": 20,
   "id": "0bddab1a-8494-4472-b52b-c2dc19db9284",
   "metadata": {},
   "outputs": [
    {
     "data": {
      "text/plain": [
       "['APPLICATION_DATE',\n",
       " 'COMPLETED_DATE',\n",
       " 'DESCRIPTION',\n",
       " 'ISSUED_DATE',\n",
       " 'PERMIT_NUM',\n",
       " 'PERMIT_TYPE',\n",
       " 'POSTAL',\n",
       " 'REVISION_NUM',\n",
       " 'STATUS',\n",
       " 'STREET_DIRECTION',\n",
       " 'STREET_NAME',\n",
       " 'STREET_NUM',\n",
       " 'STREET_TYPE',\n",
       " 'STRUCTURE_TYPE',\n",
       " 'WORK',\n",
       " '_id']"
      ]
     },
     "execution_count": 20,
     "metadata": {},
     "output_type": "execute_result"
    }
   ],
   "source": [
    "df.columns"
   ]
  },
  {
   "cell_type": "markdown",
   "id": "db7f637e-277a-494e-896c-de554248c8e5",
   "metadata": {
    "jp-MarkdownHeadingCollapsed": true,
    "tags": []
   },
   "source": [
    "## 7. Drop a column from the DataFrame"
   ]
  },
  {
   "cell_type": "code",
   "execution_count": 21,
   "id": "72b29779-bbb0-41c6-be03-e0680c1ed5df",
   "metadata": {},
   "outputs": [
    {
     "data": {
      "text/html": [
       "<table border='1'>\n",
       "<tr><th>APPLICATION_DATE</th><th>COMPLETED_DATE</th><th>ISSUED_DATE</th><th>PERMIT_NUM</th><th>PERMIT_TYPE</th><th>POSTAL</th><th>REVISION_NUM</th><th>STATUS</th><th>STREET_DIRECTION</th><th>STREET_NAME</th><th>STREET_NUM</th><th>STREET_TYPE</th><th>STRUCTURE_TYPE</th><th>WORK</th><th>_id</th></tr>\n",
       "<tr><td>2009-05-07</td><td>2010-10-05</td><td>2009-05-11</td><td>09 135007</td><td>Small Residential...</td><td>M4K</td><td>0</td><td>Closed</td><td> </td><td>GRANDVIEW</td><td>4</td><td>AVE</td><td>SFD - Semi-Detached</td><td>Solar Domestic Ho...</td><td>6561</td></tr>\n",
       "<tr><td>2009-05-07</td><td>null</td><td>2009-05-11</td><td>09 135023</td><td>Small Residential...</td><td>M4M</td><td>0</td><td>Inspection</td><td> </td><td>JONES</td><td>81</td><td>AVE</td><td>SFD - Semi-Detached</td><td>Solar Domestic Ho...</td><td>6562</td></tr>\n",
       "<tr><td>2009-05-11</td><td>2011-01-14</td><td>2009-05-20</td><td>09 136204</td><td>Small Residential...</td><td>M4J</td><td>0</td><td>Closed</td><td> </td><td>BOULTBEE</td><td>114</td><td>AVE</td><td>SFD - Semi-Detached</td><td>Solar Domestic Ho...</td><td>6563</td></tr>\n",
       "<tr><td>2009-06-11</td><td>2010-03-03</td><td>2009-08-17</td><td>09 148320</td><td>Small Residential...</td><td>M4M</td><td>0</td><td>Closed</td><td>E</td><td>GERRARD</td><td>899</td><td>ST</td><td>Converted House</td><td>Solar Domestic Ho...</td><td>6564</td></tr>\n",
       "<tr><td>2009-06-11</td><td>null</td><td>2009-08-17</td><td>09 148341</td><td>Small Residential...</td><td>M4M</td><td>0</td><td>Permit Issued</td><td> </td><td>LOGAN</td><td>201</td><td>AVE</td><td>SFD - Semi-Detached</td><td>Solar Domestic Ho...</td><td>6565</td></tr>\n",
       "<tr><td>2009-06-11</td><td>2011-02-15</td><td>2009-08-17</td><td>09 148351</td><td>Small Residential...</td><td>M4K</td><td>0</td><td>Cancelled</td><td> </td><td>BROWNING</td><td>5</td><td>AVE</td><td>SFD - Detached</td><td>Solar Domestic Ho...</td><td>6566</td></tr>\n",
       "<tr><td>2009-06-19</td><td>2010-07-14</td><td>2010-02-03</td><td>09 152120</td><td>Small Residential...</td><td>M4M</td><td>0</td><td>Closed</td><td> </td><td>LESLIE</td><td>271</td><td>ST</td><td>SFD - Detached</td><td>Solar Domestic Ho...</td><td>6567</td></tr>\n",
       "<tr><td>2009-08-04</td><td>null</td><td>2009-11-18</td><td>09 153159</td><td>Small Residential...</td><td>M4M</td><td>0</td><td>Inspection</td><td> </td><td>BRIGHTON</td><td>11</td><td>AVE</td><td>SFD - Detached</td><td>Solar Domestic Ho...</td><td>6568</td></tr>\n",
       "<tr><td>2009-08-04</td><td>null</td><td>2009-08-17</td><td>09 153172</td><td>Small Residential...</td><td>M9B</td><td>0</td><td>Permit Issued</td><td> </td><td>GREENFIELD</td><td>69</td><td>DR</td><td>SFD - Detached</td><td>Solar Domestic Ho...</td><td>6569</td></tr>\n",
       "<tr><td>2009-08-04</td><td>2017-11-17</td><td>2009-08-17</td><td>09 153185</td><td>Small Residential...</td><td>M4L</td><td>0</td><td>Cancelled</td><td> </td><td>SANDFORD</td><td>11</td><td>AVE</td><td>SFD - Semi-Detached</td><td>Solar Domestic Ho...</td><td>6570</td></tr>\n",
       "<tr><td>2009-08-04</td><td>2010-10-05</td><td>2009-08-17</td><td>09 153191</td><td>Small Residential...</td><td>M4K</td><td>0</td><td>Closed</td><td> </td><td>BROADVIEW</td><td>511</td><td>AVE</td><td>SFD - Detached</td><td>Solar Domestic Ho...</td><td>6571</td></tr>\n",
       "<tr><td>2009-08-08</td><td>null</td><td>2009-08-12</td><td>09 155040</td><td>Small Residential...</td><td>M6C</td><td>0</td><td>Inspection</td><td> </td><td>HUMEWOOD</td><td>8</td><td>DR</td><td>SFD - Detached</td><td>Solar Domestic Ho...</td><td>6572</td></tr>\n",
       "<tr><td>2009-08-20</td><td>2010-05-21</td><td>2009-09-21</td><td>09 160244</td><td>Small Residential...</td><td>M4E</td><td>0</td><td>Closed</td><td> </td><td>KIMBERLEY</td><td>24</td><td>AVE</td><td>SFD - Detached</td><td>Solar Domestic Ho...</td><td>6573</td></tr>\n",
       "<tr><td>2009-08-31</td><td>null</td><td>2009-09-22</td><td>09 163859</td><td>Small Residential...</td><td>M4W</td><td>0</td><td>Work Not Started</td><td> </td><td>EDGEWOOD</td><td>14</td><td>CRES</td><td>SFD - Detached</td><td>Solar Domestic Ho...</td><td>6574</td></tr>\n",
       "<tr><td>2009-08-31</td><td>2010-08-16</td><td>2009-12-03</td><td>09 163896</td><td>Small Residential...</td><td>M4L</td><td>0</td><td>Closed</td><td> </td><td>HASTINGS</td><td>15</td><td>AVE</td><td>SFD - Semi-Detached</td><td>Solar Domestic Ho...</td><td>6575</td></tr>\n",
       "<tr><td>2009-08-31</td><td>null</td><td>2009-09-22</td><td>09 163937</td><td>Small Residential...</td><td>M2N</td><td>0</td><td>Permit Issued</td><td> </td><td>PARKVIEW</td><td>373</td><td>AVE</td><td>SFD - Detached</td><td>Solar Domestic Ho...</td><td>6576</td></tr>\n",
       "<tr><td>2009-08-31</td><td>null</td><td>2009-09-22</td><td>09 163962</td><td>Small Residential...</td><td>M3B</td><td>0</td><td>Permit Issued</td><td> </td><td>GREENGATE</td><td>39</td><td>RD</td><td>SFD - Detached</td><td>Solar Domestic Ho...</td><td>6577</td></tr>\n",
       "<tr><td>2009-09-09</td><td>2012-07-23</td><td>2009-09-22</td><td>09 166795</td><td>Small Residential...</td><td>M4L</td><td>0</td><td>Closed</td><td> </td><td>GLENMORE</td><td>132</td><td>RD</td><td>SFD - Detached</td><td>Solar Domestic Ho...</td><td>6578</td></tr>\n",
       "<tr><td>2009-09-09</td><td>null</td><td>2009-09-22</td><td>09 166819</td><td>Small Residential...</td><td>M4K</td><td>0</td><td>Permit Issued</td><td> </td><td>FULTON</td><td>145</td><td>AVE</td><td>SFD - Detached</td><td>Solar Domestic Ho...</td><td>6579</td></tr>\n",
       "<tr><td>2009-09-09</td><td>2014-10-28</td><td>2009-09-22</td><td>09 166933</td><td>Small Residential...</td><td>M2M</td><td>0</td><td>Closed</td><td> </td><td>GOULDING</td><td>143</td><td>AVE</td><td>SFD - Detached</td><td>Solar Domestic Ho...</td><td>6580</td></tr>\n",
       "</table>\n",
       "only showing top 20 rows\n"
      ],
      "text/plain": [
       "+----------------+--------------+-----------+----------+--------------------+------+------------+----------------+----------------+-----------+----------+-----------+-------------------+--------------------+----+\n",
       "|APPLICATION_DATE|COMPLETED_DATE|ISSUED_DATE|PERMIT_NUM|         PERMIT_TYPE|POSTAL|REVISION_NUM|          STATUS|STREET_DIRECTION|STREET_NAME|STREET_NUM|STREET_TYPE|     STRUCTURE_TYPE|                WORK| _id|\n",
       "+----------------+--------------+-----------+----------+--------------------+------+------------+----------------+----------------+-----------+----------+-----------+-------------------+--------------------+----+\n",
       "|      2009-05-07|    2010-10-05| 2009-05-11| 09 135007|Small Residential...|   M4K|           0|          Closed|                |  GRANDVIEW|         4|        AVE|SFD - Semi-Detached|Solar Domestic Ho...|6561|\n",
       "|      2009-05-07|          null| 2009-05-11| 09 135023|Small Residential...|   M4M|           0|      Inspection|                |      JONES|        81|        AVE|SFD - Semi-Detached|Solar Domestic Ho...|6562|\n",
       "|      2009-05-11|    2011-01-14| 2009-05-20| 09 136204|Small Residential...|   M4J|           0|          Closed|                |   BOULTBEE|       114|        AVE|SFD - Semi-Detached|Solar Domestic Ho...|6563|\n",
       "|      2009-06-11|    2010-03-03| 2009-08-17| 09 148320|Small Residential...|   M4M|           0|          Closed|               E|    GERRARD|       899|         ST|    Converted House|Solar Domestic Ho...|6564|\n",
       "|      2009-06-11|          null| 2009-08-17| 09 148341|Small Residential...|   M4M|           0|   Permit Issued|                |      LOGAN|       201|        AVE|SFD - Semi-Detached|Solar Domestic Ho...|6565|\n",
       "|      2009-06-11|    2011-02-15| 2009-08-17| 09 148351|Small Residential...|   M4K|           0|       Cancelled|                |   BROWNING|         5|        AVE|     SFD - Detached|Solar Domestic Ho...|6566|\n",
       "|      2009-06-19|    2010-07-14| 2010-02-03| 09 152120|Small Residential...|   M4M|           0|          Closed|                |     LESLIE|       271|         ST|     SFD - Detached|Solar Domestic Ho...|6567|\n",
       "|      2009-08-04|          null| 2009-11-18| 09 153159|Small Residential...|   M4M|           0|      Inspection|                |   BRIGHTON|        11|        AVE|     SFD - Detached|Solar Domestic Ho...|6568|\n",
       "|      2009-08-04|          null| 2009-08-17| 09 153172|Small Residential...|   M9B|           0|   Permit Issued|                | GREENFIELD|        69|         DR|     SFD - Detached|Solar Domestic Ho...|6569|\n",
       "|      2009-08-04|    2017-11-17| 2009-08-17| 09 153185|Small Residential...|   M4L|           0|       Cancelled|                |   SANDFORD|        11|        AVE|SFD - Semi-Detached|Solar Domestic Ho...|6570|\n",
       "|      2009-08-04|    2010-10-05| 2009-08-17| 09 153191|Small Residential...|   M4K|           0|          Closed|                |  BROADVIEW|       511|        AVE|     SFD - Detached|Solar Domestic Ho...|6571|\n",
       "|      2009-08-08|          null| 2009-08-12| 09 155040|Small Residential...|   M6C|           0|      Inspection|                |   HUMEWOOD|         8|         DR|     SFD - Detached|Solar Domestic Ho...|6572|\n",
       "|      2009-08-20|    2010-05-21| 2009-09-21| 09 160244|Small Residential...|   M4E|           0|          Closed|                |  KIMBERLEY|        24|        AVE|     SFD - Detached|Solar Domestic Ho...|6573|\n",
       "|      2009-08-31|          null| 2009-09-22| 09 163859|Small Residential...|   M4W|           0|Work Not Started|                |   EDGEWOOD|        14|       CRES|     SFD - Detached|Solar Domestic Ho...|6574|\n",
       "|      2009-08-31|    2010-08-16| 2009-12-03| 09 163896|Small Residential...|   M4L|           0|          Closed|                |   HASTINGS|        15|        AVE|SFD - Semi-Detached|Solar Domestic Ho...|6575|\n",
       "|      2009-08-31|          null| 2009-09-22| 09 163937|Small Residential...|   M2N|           0|   Permit Issued|                |   PARKVIEW|       373|        AVE|     SFD - Detached|Solar Domestic Ho...|6576|\n",
       "|      2009-08-31|          null| 2009-09-22| 09 163962|Small Residential...|   M3B|           0|   Permit Issued|                |  GREENGATE|        39|         RD|     SFD - Detached|Solar Domestic Ho...|6577|\n",
       "|      2009-09-09|    2012-07-23| 2009-09-22| 09 166795|Small Residential...|   M4L|           0|          Closed|                |   GLENMORE|       132|         RD|     SFD - Detached|Solar Domestic Ho...|6578|\n",
       "|      2009-09-09|          null| 2009-09-22| 09 166819|Small Residential...|   M4K|           0|   Permit Issued|                |     FULTON|       145|        AVE|     SFD - Detached|Solar Domestic Ho...|6579|\n",
       "|      2009-09-09|    2014-10-28| 2009-09-22| 09 166933|Small Residential...|   M2M|           0|          Closed|                |   GOULDING|       143|        AVE|     SFD - Detached|Solar Domestic Ho...|6580|\n",
       "+----------------+--------------+-----------+----------+--------------------+------+------------+----------------+----------------+-----------+----------+-----------+-------------------+--------------------+----+\n",
       "only showing top 20 rows"
      ]
     },
     "execution_count": 21,
     "metadata": {},
     "output_type": "execute_result"
    }
   ],
   "source": [
    "df.drop(\"DESCRIPTION\")"
   ]
  },
  {
   "cell_type": "markdown",
   "id": "ad55caed-664c-4f98-9c5c-3fd3766b8d06",
   "metadata": {
    "jp-MarkdownHeadingCollapsed": true,
    "tags": []
   },
   "source": [
    "## 8. Print number of records"
   ]
  },
  {
   "cell_type": "code",
   "execution_count": 26,
   "id": "796b44c9-188d-47bf-bdea-449fd2d8908c",
   "metadata": {},
   "outputs": [
    {
     "data": {
      "text/plain": [
       "164"
      ]
     },
     "execution_count": 26,
     "metadata": {},
     "output_type": "execute_result"
    }
   ],
   "source": [
    "df.count()"
   ]
  },
  {
   "cell_type": "markdown",
   "id": "972d5591-92e3-4777-b387-34a97f3b9903",
   "metadata": {
    "jp-MarkdownHeadingCollapsed": true,
    "tags": []
   },
   "source": [
    "## 9. Print number of unique value per columns"
   ]
  },
  {
   "cell_type": "code",
   "execution_count": 6,
   "id": "e48ba305-167f-4276-a601-3845f9aebfcb",
   "metadata": {},
   "outputs": [
    {
     "data": {
      "text/html": [
       "<table border='1'>\n",
       "<tr><th>APPLICATION_DATE</th><th>COMPLETED_DATE</th><th>DESCRIPTION</th><th>ISSUED_DATE</th><th>PERMIT_NUM</th><th>PERMIT_TYPE</th><th>POSTAL</th><th>REVISION_NUM</th><th>STATUS</th><th>STREET_DIRECTION</th><th>STREET_NAME</th><th>STREET_NUM</th><th>STREET_TYPE</th><th>STRUCTURE_TYPE</th><th>WORK</th><th>_id</th></tr>\n",
       "<tr><td>72</td><td>85</td><td>71</td><td>69</td><td>164</td><td>1</td><td>43</td><td>1</td><td>5</td><td>4</td><td>123</td><td>127</td><td>8</td><td>4</td><td>1</td><td>164</td></tr>\n",
       "</table>\n"
      ],
      "text/plain": [
       "+----------------+--------------+-----------+-----------+----------+-----------+------+------------+------+----------------+-----------+----------+-----------+--------------+----+---+\n",
       "|APPLICATION_DATE|COMPLETED_DATE|DESCRIPTION|ISSUED_DATE|PERMIT_NUM|PERMIT_TYPE|POSTAL|REVISION_NUM|STATUS|STREET_DIRECTION|STREET_NAME|STREET_NUM|STREET_TYPE|STRUCTURE_TYPE|WORK|_id|\n",
       "+----------------+--------------+-----------+-----------+----------+-----------+------+------------+------+----------------+-----------+----------+-----------+--------------+----+---+\n",
       "|              72|            85|         71|         69|       164|          1|    43|           1|     5|               4|        123|       127|          8|             4|   1|164|\n",
       "+----------------+--------------+-----------+-----------+----------+-----------+------+------------+------+----------------+-----------+----------+-----------+--------------+----+---+"
      ]
     },
     "execution_count": 6,
     "metadata": {},
     "output_type": "execute_result"
    }
   ],
   "source": [
    "from pyspark.sql.functions import col, countDistinct\n",
    "\n",
    "df.agg(*(countDistinct(col(c)).alias(c) for c in df.columns))"
   ]
  },
  {
   "cell_type": "markdown",
   "id": "59dd47ec-4f53-4e3d-a352-4e14e1d57d8a",
   "metadata": {
    "jp-MarkdownHeadingCollapsed": true,
    "tags": []
   },
   "source": [
    "## 10. How many types of STATUS values are there?"
   ]
  },
  {
   "cell_type": "code",
   "execution_count": 4,
   "id": "7df50173-98e2-4160-9458-6662054fb2f1",
   "metadata": {},
   "outputs": [
    {
     "data": {
      "text/plain": [
       "5"
      ]
     },
     "execution_count": 4,
     "metadata": {},
     "output_type": "execute_result"
    }
   ],
   "source": [
    "df.select(col(\"STATUS\")).distinct().count()"
   ]
  },
  {
   "cell_type": "code",
   "execution_count": 3,
   "id": "fe6b881f-ad79-4d85-8015-8cc2e27482f7",
   "metadata": {},
   "outputs": [
    {
     "data": {
      "text/html": [
       "<table border='1'>\n",
       "<tr><th>STATUS</th><th>NUMBER OF APPLICATIONS</th></tr>\n",
       "<tr><td>Permit Issued</td><td>21</td></tr>\n",
       "<tr><td>Inspection</td><td>18</td></tr>\n",
       "<tr><td>Cancelled</td><td>12</td></tr>\n",
       "<tr><td>Work Not Started</td><td>2</td></tr>\n",
       "<tr><td>Closed</td><td>111</td></tr>\n",
       "</table>\n"
      ],
      "text/plain": [
       "+----------------+----------------------+\n",
       "|          STATUS|NUMBER OF APPLICATIONS|\n",
       "+----------------+----------------------+\n",
       "|   Permit Issued|                    21|\n",
       "|      Inspection|                    18|\n",
       "|       Cancelled|                    12|\n",
       "|Work Not Started|                     2|\n",
       "|          Closed|                   111|\n",
       "+----------------+----------------------+"
      ]
     },
     "execution_count": 3,
     "metadata": {},
     "output_type": "execute_result"
    }
   ],
   "source": [
    "from pyspark.sql.functions import lit, count\n",
    "\n",
    "df.groupBy(\"STATUS\").agg(count(lit(1)).alias(\"NUMBER OF APPLICATIONS\"))"
   ]
  },
  {
   "cell_type": "markdown",
   "id": "98b6e14d-fa02-41f2-bd18-9de789e64955",
   "metadata": {
    "jp-MarkdownHeadingCollapsed": true,
    "tags": []
   },
   "source": [
    "## 11. Filter the DataFrame based on the values of a single column"
   ]
  },
  {
   "cell_type": "code",
   "execution_count": 6,
   "id": "951a4d43-5229-4379-8973-1c3d86b771b5",
   "metadata": {},
   "outputs": [
    {
     "data": {
      "text/html": [
       "<table border='1'>\n",
       "<tr><th>APPLICATION_DATE</th><th>COMPLETED_DATE</th><th>DESCRIPTION</th><th>ISSUED_DATE</th><th>PERMIT_NUM</th><th>PERMIT_TYPE</th><th>POSTAL</th><th>REVISION_NUM</th><th>STATUS</th><th>STREET_DIRECTION</th><th>STREET_NAME</th><th>STREET_NUM</th><th>STREET_TYPE</th><th>STRUCTURE_TYPE</th><th>WORK</th><th>_id</th></tr>\n",
       "<tr><td>2009-06-11</td><td>2011-02-15</td><td>Permit for instal...</td><td>2009-08-17</td><td>09 148351</td><td>Small Residential...</td><td>M4K</td><td>0</td><td>Cancelled</td><td> </td><td>BROWNING</td><td>5</td><td>AVE</td><td>SFD - Detached</td><td>Solar Domestic Ho...</td><td>6566</td></tr>\n",
       "<tr><td>2009-08-04</td><td>2017-11-17</td><td>Permit for instal...</td><td>2009-08-17</td><td>09 153185</td><td>Small Residential...</td><td>M4L</td><td>0</td><td>Cancelled</td><td> </td><td>SANDFORD</td><td>11</td><td>AVE</td><td>SFD - Semi-Detached</td><td>Solar Domestic Ho...</td><td>6570</td></tr>\n",
       "<tr><td>2010-01-04</td><td>2018-05-25</td><td>Permit for instal...</td><td>2010-01-07</td><td>10 100408</td><td>Small Residential...</td><td>M4M</td><td>0</td><td>Cancelled</td><td> </td><td>LOGAN</td><td>237</td><td>AVE</td><td>SFD - Townhouse</td><td>Solar Domestic Ho...</td><td>6646</td></tr>\n",
       "<tr><td>2010-02-25</td><td>2016-12-01</td><td>install hot water...</td><td>null</td><td>10 123466</td><td>Small Residential...</td><td>M1V</td><td>0</td><td>Cancelled</td><td> </td><td>SANWOOD</td><td>5</td><td>BLVD</td><td>SFD - Detached</td><td>Solar Domestic Ho...</td><td>6649</td></tr>\n",
       "<tr><td>2010-07-30</td><td>2015-07-23</td><td>Permit for instal...</td><td>2010-07-30</td><td>10 231290</td><td>Small Residential...</td><td>M4K</td><td>0</td><td>Cancelled</td><td> </td><td>CAMBRIDGE</td><td>157</td><td>AVE</td><td>SFD - Detached</td><td>Solar Domestic Ho...</td><td>6657</td></tr>\n",
       "<tr><td>2010-09-29</td><td>2019-03-29</td><td>rooftop solar panel</td><td>2015-03-19</td><td>10 268200</td><td>Small Residential...</td><td>M1S</td><td>0</td><td>Cancelled</td><td> </td><td>BLUEBERRY</td><td>12</td><td>DR</td><td>SFD - Detached</td><td>Solar Domestic Ho...</td><td>6659</td></tr>\n",
       "<tr><td>2010-11-04</td><td>2013-03-21</td><td>Permit for instal...</td><td>2010-11-05</td><td>10 291362</td><td>Small Residential...</td><td>M4E</td><td>0</td><td>Cancelled</td><td> </td><td>WILLOW</td><td>261</td><td>AVE</td><td>SFD - Semi-Detached</td><td>Solar Domestic Ho...</td><td>6670</td></tr>\n",
       "<tr><td>2010-11-17</td><td>2013-03-21</td><td>Permit for instal...</td><td>2010-11-18</td><td>10 298393</td><td>Small Residential...</td><td>M4E</td><td>0</td><td>Cancelled</td><td>E</td><td>GERRARD</td><td>2001</td><td>ST</td><td>SFD - Semi-Detached</td><td>Solar Domestic Ho...</td><td>6684</td></tr>\n",
       "<tr><td>2011-12-15</td><td>2015-11-17</td><td>Roof top solar pa...</td><td>2012-04-03</td><td>11 326620</td><td>Small Residential...</td><td>M1C</td><td>0</td><td>Cancelled</td><td> </td><td>ROUGE HIGHLANDS</td><td>371</td><td>DR</td><td>SFD - Detached</td><td>Solar Domestic Ho...</td><td>6712</td></tr>\n",
       "<tr><td>2012-06-19</td><td>2019-10-01</td><td>Install one solar...</td><td>2012-09-26</td><td>12 196161</td><td>Small Residential...</td><td>M4N</td><td>0</td><td>Cancelled</td><td> </td><td>BOWOOD</td><td>63</td><td>AVE</td><td>SFD - Semi-Detached</td><td>Solar Domestic Ho...</td><td>6714</td></tr>\n",
       "<tr><td>2016-05-30</td><td>2019-04-01</td><td>Proposal to insta...</td><td>2016-06-14</td><td>16 163941</td><td>Small Residential...</td><td>M1B</td><td>0</td><td>Cancelled</td><td> </td><td>PENNYHILL</td><td>108</td><td>DR</td><td>SFD - Detached</td><td>Solar Domestic Ho...</td><td>6721</td></tr>\n",
       "<tr><td>2016-07-15</td><td>2016-07-22</td><td>Installation of r...</td><td>null</td><td>16 191294</td><td>Small Residential...</td><td>M1M</td><td>0</td><td>Cancelled</td><td> </td><td>BRIMLEY</td><td>75</td><td>RD</td><td>SFD - Detached</td><td>Solar Domestic Ho...</td><td>6722</td></tr>\n",
       "</table>\n"
      ],
      "text/plain": [
       "+----------------+--------------+--------------------+-----------+----------+--------------------+------+------------+---------+----------------+---------------+----------+-----------+-------------------+--------------------+----+\n",
       "|APPLICATION_DATE|COMPLETED_DATE|         DESCRIPTION|ISSUED_DATE|PERMIT_NUM|         PERMIT_TYPE|POSTAL|REVISION_NUM|   STATUS|STREET_DIRECTION|    STREET_NAME|STREET_NUM|STREET_TYPE|     STRUCTURE_TYPE|                WORK| _id|\n",
       "+----------------+--------------+--------------------+-----------+----------+--------------------+------+------------+---------+----------------+---------------+----------+-----------+-------------------+--------------------+----+\n",
       "|      2009-06-11|    2011-02-15|Permit for instal...| 2009-08-17| 09 148351|Small Residential...|   M4K|           0|Cancelled|                |       BROWNING|         5|        AVE|     SFD - Detached|Solar Domestic Ho...|6566|\n",
       "|      2009-08-04|    2017-11-17|Permit for instal...| 2009-08-17| 09 153185|Small Residential...|   M4L|           0|Cancelled|                |       SANDFORD|        11|        AVE|SFD - Semi-Detached|Solar Domestic Ho...|6570|\n",
       "|      2010-01-04|    2018-05-25|Permit for instal...| 2010-01-07| 10 100408|Small Residential...|   M4M|           0|Cancelled|                |          LOGAN|       237|        AVE|    SFD - Townhouse|Solar Domestic Ho...|6646|\n",
       "|      2010-02-25|    2016-12-01|install hot water...|       null| 10 123466|Small Residential...|   M1V|           0|Cancelled|                |        SANWOOD|         5|       BLVD|     SFD - Detached|Solar Domestic Ho...|6649|\n",
       "|      2010-07-30|    2015-07-23|Permit for instal...| 2010-07-30| 10 231290|Small Residential...|   M4K|           0|Cancelled|                |      CAMBRIDGE|       157|        AVE|     SFD - Detached|Solar Domestic Ho...|6657|\n",
       "|      2010-09-29|    2019-03-29| rooftop solar panel| 2015-03-19| 10 268200|Small Residential...|   M1S|           0|Cancelled|                |      BLUEBERRY|        12|         DR|     SFD - Detached|Solar Domestic Ho...|6659|\n",
       "|      2010-11-04|    2013-03-21|Permit for instal...| 2010-11-05| 10 291362|Small Residential...|   M4E|           0|Cancelled|                |         WILLOW|       261|        AVE|SFD - Semi-Detached|Solar Domestic Ho...|6670|\n",
       "|      2010-11-17|    2013-03-21|Permit for instal...| 2010-11-18| 10 298393|Small Residential...|   M4E|           0|Cancelled|               E|        GERRARD|      2001|         ST|SFD - Semi-Detached|Solar Domestic Ho...|6684|\n",
       "|      2011-12-15|    2015-11-17|Roof top solar pa...| 2012-04-03| 11 326620|Small Residential...|   M1C|           0|Cancelled|                |ROUGE HIGHLANDS|       371|         DR|     SFD - Detached|Solar Domestic Ho...|6712|\n",
       "|      2012-06-19|    2019-10-01|Install one solar...| 2012-09-26| 12 196161|Small Residential...|   M4N|           0|Cancelled|                |         BOWOOD|        63|        AVE|SFD - Semi-Detached|Solar Domestic Ho...|6714|\n",
       "|      2016-05-30|    2019-04-01|Proposal to insta...| 2016-06-14| 16 163941|Small Residential...|   M1B|           0|Cancelled|                |      PENNYHILL|       108|         DR|     SFD - Detached|Solar Domestic Ho...|6721|\n",
       "|      2016-07-15|    2016-07-22|Installation of r...|       null| 16 191294|Small Residential...|   M1M|           0|Cancelled|                |        BRIMLEY|        75|         RD|     SFD - Detached|Solar Domestic Ho...|6722|\n",
       "+----------------+--------------+--------------------+-----------+----------+--------------------+------+------------+---------+----------------+---------------+----------+-----------+-------------------+--------------------+----+"
      ]
     },
     "execution_count": 6,
     "metadata": {},
     "output_type": "execute_result"
    }
   ],
   "source": [
    "df.filter(col(\"STATUS\") == \"Cancelled\")"
   ]
  },
  {
   "cell_type": "markdown",
   "id": "484ea6cd-163f-41f6-9f52-09e96eb7c20d",
   "metadata": {
    "jp-MarkdownHeadingCollapsed": true,
    "tags": []
   },
   "source": [
    "## 12. Calculate Application processing time for each application"
   ]
  },
  {
   "cell_type": "code",
   "execution_count": 6,
   "id": "d199db48-a535-4385-8526-d130d83ef568",
   "metadata": {},
   "outputs": [],
   "source": [
    "from pyspark.sql.functions import date_format, datediff,col"
   ]
  },
  {
   "cell_type": "code",
   "execution_count": 7,
   "id": "574786f8-4d3d-4bc2-a26a-f7166fcc294e",
   "metadata": {},
   "outputs": [
    {
     "data": {
      "text/html": [
       "<table border='1'>\n",
       "<tr><th>APPLICATION_DATE</th><th>ISSUED_DATE</th><th>APP_PRCS_TIME</th></tr>\n",
       "<tr><td>2010-09-29</td><td>2015-03-19</td><td>1632</td></tr>\n",
       "<tr><td>2009-12-01</td><td>2014-04-07</td><td>1588</td></tr>\n",
       "<tr><td>2010-02-18</td><td>2013-07-31</td><td>1259</td></tr>\n",
       "<tr><td>2009-11-26</td><td>2010-07-30</td><td>246</td></tr>\n",
       "<tr><td>2009-06-19</td><td>2010-02-03</td><td>229</td></tr>\n",
       "<tr><td>2009-12-01</td><td>2010-04-26</td><td>146</td></tr>\n",
       "<tr><td>2009-12-01</td><td>2010-04-26</td><td>146</td></tr>\n",
       "<tr><td>2009-12-01</td><td>2010-04-26</td><td>146</td></tr>\n",
       "<tr><td>2011-12-15</td><td>2012-04-03</td><td>110</td></tr>\n",
       "<tr><td>2009-08-04</td><td>2009-11-18</td><td>106</td></tr>\n",
       "<tr><td>2012-06-19</td><td>2012-09-26</td><td>99</td></tr>\n",
       "<tr><td>2009-08-31</td><td>2009-12-03</td><td>94</td></tr>\n",
       "<tr><td>2009-06-11</td><td>2009-08-17</td><td>67</td></tr>\n",
       "<tr><td>2009-06-11</td><td>2009-08-17</td><td>67</td></tr>\n",
       "<tr><td>2009-06-11</td><td>2009-08-17</td><td>67</td></tr>\n",
       "<tr><td>2011-09-27</td><td>2011-11-02</td><td>36</td></tr>\n",
       "<tr><td>2012-04-05</td><td>2012-05-11</td><td>36</td></tr>\n",
       "<tr><td>2009-08-20</td><td>2009-09-21</td><td>32</td></tr>\n",
       "<tr><td>2012-10-15</td><td>2012-11-16</td><td>32</td></tr>\n",
       "<tr><td>2015-06-12</td><td>2015-07-14</td><td>32</td></tr>\n",
       "</table>\n",
       "only showing top 20 rows\n"
      ],
      "text/plain": [
       "+----------------+-----------+-------------+\n",
       "|APPLICATION_DATE|ISSUED_DATE|APP_PRCS_TIME|\n",
       "+----------------+-----------+-------------+\n",
       "|      2010-09-29| 2015-03-19|         1632|\n",
       "|      2009-12-01| 2014-04-07|         1588|\n",
       "|      2010-02-18| 2013-07-31|         1259|\n",
       "|      2009-11-26| 2010-07-30|          246|\n",
       "|      2009-06-19| 2010-02-03|          229|\n",
       "|      2009-12-01| 2010-04-26|          146|\n",
       "|      2009-12-01| 2010-04-26|          146|\n",
       "|      2009-12-01| 2010-04-26|          146|\n",
       "|      2011-12-15| 2012-04-03|          110|\n",
       "|      2009-08-04| 2009-11-18|          106|\n",
       "|      2012-06-19| 2012-09-26|           99|\n",
       "|      2009-08-31| 2009-12-03|           94|\n",
       "|      2009-06-11| 2009-08-17|           67|\n",
       "|      2009-06-11| 2009-08-17|           67|\n",
       "|      2009-06-11| 2009-08-17|           67|\n",
       "|      2011-09-27| 2011-11-02|           36|\n",
       "|      2012-04-05| 2012-05-11|           36|\n",
       "|      2009-08-20| 2009-09-21|           32|\n",
       "|      2012-10-15| 2012-11-16|           32|\n",
       "|      2015-06-12| 2015-07-14|           32|\n",
       "+----------------+-----------+-------------+\n",
       "only showing top 20 rows"
      ]
     },
     "execution_count": 7,
     "metadata": {},
     "output_type": "execute_result"
    }
   ],
   "source": [
    "df.select(\"APPLICATION_DATE\", \"ISSUED_DATE\"). \\\n",
    "withColumn(\"APP_PRCS_TIME\", datediff(col(\"ISSUED_DATE\"), col(\"APPLICATION_DATE\"))). \\\n",
    "orderBy(col(\"APP_PRCS_TIME\").desc())"
   ]
  },
  {
   "cell_type": "markdown",
   "id": "105d86cd-f148-4b47-8e9e-826bde74d8cc",
   "metadata": {
    "jp-MarkdownHeadingCollapsed": true,
    "tags": []
   },
   "source": [
    "## 13. How many water heaters were issued in year 2015?"
   ]
  },
  {
   "cell_type": "code",
   "execution_count": 3,
   "id": "483e8398-3bae-4724-b041-ec66b5720705",
   "metadata": {},
   "outputs": [
    {
     "data": {
      "text/plain": [
       "3"
      ]
     },
     "execution_count": 3,
     "metadata": {},
     "output_type": "execute_result"
    }
   ],
   "source": [
    "from pyspark.sql.functions import * \n",
    "\n",
    "df.select(\"ISSUED_DATE\").filter(\"year(ISSUED_DATE) == 2015\").count()\n",
    "#df.select(\"ISSUED_DATE\").where(\"year(ISSUED_DATE) = 2015\").count()"
   ]
  },
  {
   "cell_type": "markdown",
   "id": "23457d16-60de-48e7-841b-3625ecdcd6bb",
   "metadata": {
    "jp-MarkdownHeadingCollapsed": true,
    "tags": []
   },
   "source": [
    "## 14. How many water heaters were issued by year?"
   ]
  },
  {
   "cell_type": "code",
   "execution_count": 46,
   "id": "4fb1dd6b-7ac5-42bd-b2c5-5029c5fcd1af",
   "metadata": {},
   "outputs": [
    {
     "data": {
      "text/html": [
       "<table border='1'>\n",
       "<tr><th>Issued Date</th><th>Number of Issued Applications</th></tr>\n",
       "<tr><td>2017</td><td>1</td></tr>\n",
       "<tr><td>2016</td><td>2</td></tr>\n",
       "<tr><td>2015</td><td>3</td></tr>\n",
       "<tr><td>2014</td><td>3</td></tr>\n",
       "<tr><td>2013</td><td>2</td></tr>\n",
       "<tr><td>2012</td><td>4</td></tr>\n",
       "<tr><td>2011</td><td>10</td></tr>\n",
       "<tr><td>2010</td><td>59</td></tr>\n",
       "<tr><td>2009</td><td>78</td></tr>\n",
       "</table>\n"
      ],
      "text/plain": [
       "+-----------+-----------------------------+\n",
       "|Issued Date|Number of Issued Applications|\n",
       "+-----------+-----------------------------+\n",
       "|       2017|                            1|\n",
       "|       2016|                            2|\n",
       "|       2015|                            3|\n",
       "|       2014|                            3|\n",
       "|       2013|                            2|\n",
       "|       2012|                            4|\n",
       "|       2011|                           10|\n",
       "|       2010|                           59|\n",
       "|       2009|                           78|\n",
       "+-----------+-----------------------------+"
      ]
     },
     "execution_count": 46,
     "metadata": {},
     "output_type": "execute_result"
    }
   ],
   "source": [
    "df.withColumn(\"Issued Date\", year(\"ISSUED_DATE\")). \\\n",
    "groupBy(\"Issued Date\").agg(count(\"ISSUED_DATE\").alias(\"Number of Issued Applications\")).orderBy(desc(\"Issued Date\")).filter(col(\"Issued Date\").isNotNull())"
   ]
  },
  {
   "cell_type": "markdown",
   "id": "185a41dd-67f6-43cc-81fc-d8d479ddec59",
   "metadata": {
    "jp-MarkdownHeadingCollapsed": true,
    "tags": []
   },
   "source": [
    "## 15. Joined Operations: \n",
    "1. Create clone dataframe of data\n",
    "2. Filter the applications\n",
    "3. Create column \"application_processing_days\" by APPLICATION_DATE, ISSUED_DATE and store it in df_procession_days dataframe\n",
    "4. JOIN df_procession_days dataframe - Use inner join. And make sure the processing_days columns is available with the original dataframe"
   ]
  },
  {
   "cell_type": "code",
   "execution_count": 5,
   "id": "a3f0690a-98c6-4f02-b01f-16244bf1798f",
   "metadata": {},
   "outputs": [],
   "source": [
    "df_issued = df.filter(col(\"ISSUED_DATE\").isNotNull())"
   ]
  },
  {
   "cell_type": "code",
   "execution_count": 6,
   "id": "8d7776f6-afd6-4ef0-8228-f33bb4d229b4",
   "metadata": {},
   "outputs": [],
   "source": [
    "df_procession_days = df_issued.withColumn(\"processing_days\", datediff(col(\"ISSUED_DATE\"), col(\"APPLICATION_DATE\")))"
   ]
  },
  {
   "cell_type": "code",
   "execution_count": 7,
   "id": "e1227c28-4070-4ef3-a183-f1e84d7bdae7",
   "metadata": {},
   "outputs": [],
   "source": [
    "df_joined = df.join(df_procession_days, df._id == df_procession_days._id, how = \"inner\"). \\\n",
    "    select(df[\"*\"], df_procession_days[\"processing_days\"])"
   ]
  },
  {
   "cell_type": "code",
   "execution_count": 8,
   "id": "097b66f6-faf5-42e7-8693-a690861d3f50",
   "metadata": {},
   "outputs": [
    {
     "data": {
      "text/html": [
       "<table border='1'>\n",
       "<tr><th>APPLICATION_DATE</th><th>COMPLETED_DATE</th><th>DESCRIPTION</th><th>ISSUED_DATE</th><th>PERMIT_NUM</th><th>PERMIT_TYPE</th><th>POSTAL</th><th>REVISION_NUM</th><th>STATUS</th><th>STREET_DIRECTION</th><th>STREET_NAME</th><th>STREET_NUM</th><th>STREET_TYPE</th><th>STRUCTURE_TYPE</th><th>WORK</th><th>_id</th><th>processing_days</th></tr>\n",
       "<tr><td>2009-05-07</td><td>2010-10-05</td><td>installation of s...</td><td>2009-05-11</td><td>09 135007</td><td>Small Residential...</td><td>M4K</td><td>0</td><td>Closed</td><td> </td><td>GRANDVIEW</td><td>4</td><td>AVE</td><td>SFD - Semi-Detached</td><td>Solar Domestic Ho...</td><td>6561</td><td>4</td></tr>\n",
       "<tr><td>2009-05-07</td><td>null</td><td>Installation of a...</td><td>2009-05-11</td><td>09 135023</td><td>Small Residential...</td><td>M4M</td><td>0</td><td>Inspection</td><td> </td><td>JONES</td><td>81</td><td>AVE</td><td>SFD - Semi-Detached</td><td>Solar Domestic Ho...</td><td>6562</td><td>4</td></tr>\n",
       "<tr><td>2009-05-11</td><td>2011-01-14</td><td>Proposal to insta...</td><td>2009-05-20</td><td>09 136204</td><td>Small Residential...</td><td>M4J</td><td>0</td><td>Closed</td><td> </td><td>BOULTBEE</td><td>114</td><td>AVE</td><td>SFD - Semi-Detached</td><td>Solar Domestic Ho...</td><td>6563</td><td>9</td></tr>\n",
       "<tr><td>2009-06-11</td><td>2010-03-03</td><td>Permit for instal...</td><td>2009-08-17</td><td>09 148320</td><td>Small Residential...</td><td>M4M</td><td>0</td><td>Closed</td><td>E</td><td>GERRARD</td><td>899</td><td>ST</td><td>Converted House</td><td>Solar Domestic Ho...</td><td>6564</td><td>67</td></tr>\n",
       "<tr><td>2009-06-11</td><td>null</td><td>Permit for instal...</td><td>2009-08-17</td><td>09 148341</td><td>Small Residential...</td><td>M4M</td><td>0</td><td>Permit Issued</td><td> </td><td>LOGAN</td><td>201</td><td>AVE</td><td>SFD - Semi-Detached</td><td>Solar Domestic Ho...</td><td>6565</td><td>67</td></tr>\n",
       "<tr><td>2009-06-11</td><td>2011-02-15</td><td>Permit for instal...</td><td>2009-08-17</td><td>09 148351</td><td>Small Residential...</td><td>M4K</td><td>0</td><td>Cancelled</td><td> </td><td>BROWNING</td><td>5</td><td>AVE</td><td>SFD - Detached</td><td>Solar Domestic Ho...</td><td>6566</td><td>67</td></tr>\n",
       "<tr><td>2009-06-19</td><td>2010-07-14</td><td>Permit for instal...</td><td>2010-02-03</td><td>09 152120</td><td>Small Residential...</td><td>M4M</td><td>0</td><td>Closed</td><td> </td><td>LESLIE</td><td>271</td><td>ST</td><td>SFD - Detached</td><td>Solar Domestic Ho...</td><td>6567</td><td>229</td></tr>\n",
       "<tr><td>2009-08-04</td><td>null</td><td>Installation of 2...</td><td>2009-11-18</td><td>09 153159</td><td>Small Residential...</td><td>M4M</td><td>0</td><td>Inspection</td><td> </td><td>BRIGHTON</td><td>11</td><td>AVE</td><td>SFD - Detached</td><td>Solar Domestic Ho...</td><td>6568</td><td>106</td></tr>\n",
       "<tr><td>2009-08-04</td><td>null</td><td>Permit for instal...</td><td>2009-08-17</td><td>09 153172</td><td>Small Residential...</td><td>M9B</td><td>0</td><td>Permit Issued</td><td> </td><td>GREENFIELD</td><td>69</td><td>DR</td><td>SFD - Detached</td><td>Solar Domestic Ho...</td><td>6569</td><td>13</td></tr>\n",
       "<tr><td>2009-08-04</td><td>2017-11-17</td><td>Permit for instal...</td><td>2009-08-17</td><td>09 153185</td><td>Small Residential...</td><td>M4L</td><td>0</td><td>Cancelled</td><td> </td><td>SANDFORD</td><td>11</td><td>AVE</td><td>SFD - Semi-Detached</td><td>Solar Domestic Ho...</td><td>6570</td><td>13</td></tr>\n",
       "<tr><td>2009-08-04</td><td>2010-10-05</td><td>Permit for instal...</td><td>2009-08-17</td><td>09 153191</td><td>Small Residential...</td><td>M4K</td><td>0</td><td>Closed</td><td> </td><td>BROADVIEW</td><td>511</td><td>AVE</td><td>SFD - Detached</td><td>Solar Domestic Ho...</td><td>6571</td><td>13</td></tr>\n",
       "<tr><td>2009-08-08</td><td>null</td><td>Permit for instal...</td><td>2009-08-12</td><td>09 155040</td><td>Small Residential...</td><td>M6C</td><td>0</td><td>Inspection</td><td> </td><td>HUMEWOOD</td><td>8</td><td>DR</td><td>SFD - Detached</td><td>Solar Domestic Ho...</td><td>6572</td><td>4</td></tr>\n",
       "<tr><td>2009-08-20</td><td>2010-05-21</td><td>Permit for instal...</td><td>2009-09-21</td><td>09 160244</td><td>Small Residential...</td><td>M4E</td><td>0</td><td>Closed</td><td> </td><td>KIMBERLEY</td><td>24</td><td>AVE</td><td>SFD - Detached</td><td>Solar Domestic Ho...</td><td>6573</td><td>32</td></tr>\n",
       "<tr><td>2009-08-31</td><td>null</td><td>Permit for instal...</td><td>2009-09-22</td><td>09 163859</td><td>Small Residential...</td><td>M4W</td><td>0</td><td>Work Not Started</td><td> </td><td>EDGEWOOD</td><td>14</td><td>CRES</td><td>SFD - Detached</td><td>Solar Domestic Ho...</td><td>6574</td><td>22</td></tr>\n",
       "<tr><td>2009-08-31</td><td>2010-08-16</td><td>Permit for instal...</td><td>2009-12-03</td><td>09 163896</td><td>Small Residential...</td><td>M4L</td><td>0</td><td>Closed</td><td> </td><td>HASTINGS</td><td>15</td><td>AVE</td><td>SFD - Semi-Detached</td><td>Solar Domestic Ho...</td><td>6575</td><td>94</td></tr>\n",
       "<tr><td>2009-08-31</td><td>null</td><td>Permit for instal...</td><td>2009-09-22</td><td>09 163937</td><td>Small Residential...</td><td>M2N</td><td>0</td><td>Permit Issued</td><td> </td><td>PARKVIEW</td><td>373</td><td>AVE</td><td>SFD - Detached</td><td>Solar Domestic Ho...</td><td>6576</td><td>22</td></tr>\n",
       "<tr><td>2009-08-31</td><td>null</td><td>Permit for instal...</td><td>2009-09-22</td><td>09 163962</td><td>Small Residential...</td><td>M3B</td><td>0</td><td>Permit Issued</td><td> </td><td>GREENGATE</td><td>39</td><td>RD</td><td>SFD - Detached</td><td>Solar Domestic Ho...</td><td>6577</td><td>22</td></tr>\n",
       "<tr><td>2009-09-09</td><td>2012-07-23</td><td>Permit for instal...</td><td>2009-09-22</td><td>09 166795</td><td>Small Residential...</td><td>M4L</td><td>0</td><td>Closed</td><td> </td><td>GLENMORE</td><td>132</td><td>RD</td><td>SFD - Detached</td><td>Solar Domestic Ho...</td><td>6578</td><td>13</td></tr>\n",
       "<tr><td>2009-09-09</td><td>null</td><td>Permit for instal...</td><td>2009-09-22</td><td>09 166819</td><td>Small Residential...</td><td>M4K</td><td>0</td><td>Permit Issued</td><td> </td><td>FULTON</td><td>145</td><td>AVE</td><td>SFD - Detached</td><td>Solar Domestic Ho...</td><td>6579</td><td>13</td></tr>\n",
       "<tr><td>2009-09-09</td><td>2014-10-28</td><td>Permit for instal...</td><td>2009-09-22</td><td>09 166933</td><td>Small Residential...</td><td>M2M</td><td>0</td><td>Closed</td><td> </td><td>GOULDING</td><td>143</td><td>AVE</td><td>SFD - Detached</td><td>Solar Domestic Ho...</td><td>6580</td><td>13</td></tr>\n",
       "</table>\n",
       "only showing top 20 rows\n"
      ],
      "text/plain": [
       "+----------------+--------------+--------------------+-----------+----------+--------------------+------+------------+----------------+----------------+-----------+----------+-----------+-------------------+--------------------+----+---------------+\n",
       "|APPLICATION_DATE|COMPLETED_DATE|         DESCRIPTION|ISSUED_DATE|PERMIT_NUM|         PERMIT_TYPE|POSTAL|REVISION_NUM|          STATUS|STREET_DIRECTION|STREET_NAME|STREET_NUM|STREET_TYPE|     STRUCTURE_TYPE|                WORK| _id|processing_days|\n",
       "+----------------+--------------+--------------------+-----------+----------+--------------------+------+------------+----------------+----------------+-----------+----------+-----------+-------------------+--------------------+----+---------------+\n",
       "|      2009-05-07|    2010-10-05|installation of s...| 2009-05-11| 09 135007|Small Residential...|   M4K|           0|          Closed|                |  GRANDVIEW|         4|        AVE|SFD - Semi-Detached|Solar Domestic Ho...|6561|              4|\n",
       "|      2009-05-07|          null|Installation of a...| 2009-05-11| 09 135023|Small Residential...|   M4M|           0|      Inspection|                |      JONES|        81|        AVE|SFD - Semi-Detached|Solar Domestic Ho...|6562|              4|\n",
       "|      2009-05-11|    2011-01-14|Proposal to insta...| 2009-05-20| 09 136204|Small Residential...|   M4J|           0|          Closed|                |   BOULTBEE|       114|        AVE|SFD - Semi-Detached|Solar Domestic Ho...|6563|              9|\n",
       "|      2009-06-11|    2010-03-03|Permit for instal...| 2009-08-17| 09 148320|Small Residential...|   M4M|           0|          Closed|               E|    GERRARD|       899|         ST|    Converted House|Solar Domestic Ho...|6564|             67|\n",
       "|      2009-06-11|          null|Permit for instal...| 2009-08-17| 09 148341|Small Residential...|   M4M|           0|   Permit Issued|                |      LOGAN|       201|        AVE|SFD - Semi-Detached|Solar Domestic Ho...|6565|             67|\n",
       "|      2009-06-11|    2011-02-15|Permit for instal...| 2009-08-17| 09 148351|Small Residential...|   M4K|           0|       Cancelled|                |   BROWNING|         5|        AVE|     SFD - Detached|Solar Domestic Ho...|6566|             67|\n",
       "|      2009-06-19|    2010-07-14|Permit for instal...| 2010-02-03| 09 152120|Small Residential...|   M4M|           0|          Closed|                |     LESLIE|       271|         ST|     SFD - Detached|Solar Domestic Ho...|6567|            229|\n",
       "|      2009-08-04|          null|Installation of 2...| 2009-11-18| 09 153159|Small Residential...|   M4M|           0|      Inspection|                |   BRIGHTON|        11|        AVE|     SFD - Detached|Solar Domestic Ho...|6568|            106|\n",
       "|      2009-08-04|          null|Permit for instal...| 2009-08-17| 09 153172|Small Residential...|   M9B|           0|   Permit Issued|                | GREENFIELD|        69|         DR|     SFD - Detached|Solar Domestic Ho...|6569|             13|\n",
       "|      2009-08-04|    2017-11-17|Permit for instal...| 2009-08-17| 09 153185|Small Residential...|   M4L|           0|       Cancelled|                |   SANDFORD|        11|        AVE|SFD - Semi-Detached|Solar Domestic Ho...|6570|             13|\n",
       "|      2009-08-04|    2010-10-05|Permit for instal...| 2009-08-17| 09 153191|Small Residential...|   M4K|           0|          Closed|                |  BROADVIEW|       511|        AVE|     SFD - Detached|Solar Domestic Ho...|6571|             13|\n",
       "|      2009-08-08|          null|Permit for instal...| 2009-08-12| 09 155040|Small Residential...|   M6C|           0|      Inspection|                |   HUMEWOOD|         8|         DR|     SFD - Detached|Solar Domestic Ho...|6572|              4|\n",
       "|      2009-08-20|    2010-05-21|Permit for instal...| 2009-09-21| 09 160244|Small Residential...|   M4E|           0|          Closed|                |  KIMBERLEY|        24|        AVE|     SFD - Detached|Solar Domestic Ho...|6573|             32|\n",
       "|      2009-08-31|          null|Permit for instal...| 2009-09-22| 09 163859|Small Residential...|   M4W|           0|Work Not Started|                |   EDGEWOOD|        14|       CRES|     SFD - Detached|Solar Domestic Ho...|6574|             22|\n",
       "|      2009-08-31|    2010-08-16|Permit for instal...| 2009-12-03| 09 163896|Small Residential...|   M4L|           0|          Closed|                |   HASTINGS|        15|        AVE|SFD - Semi-Detached|Solar Domestic Ho...|6575|             94|\n",
       "|      2009-08-31|          null|Permit for instal...| 2009-09-22| 09 163937|Small Residential...|   M2N|           0|   Permit Issued|                |   PARKVIEW|       373|        AVE|     SFD - Detached|Solar Domestic Ho...|6576|             22|\n",
       "|      2009-08-31|          null|Permit for instal...| 2009-09-22| 09 163962|Small Residential...|   M3B|           0|   Permit Issued|                |  GREENGATE|        39|         RD|     SFD - Detached|Solar Domestic Ho...|6577|             22|\n",
       "|      2009-09-09|    2012-07-23|Permit for instal...| 2009-09-22| 09 166795|Small Residential...|   M4L|           0|          Closed|                |   GLENMORE|       132|         RD|     SFD - Detached|Solar Domestic Ho...|6578|             13|\n",
       "|      2009-09-09|          null|Permit for instal...| 2009-09-22| 09 166819|Small Residential...|   M4K|           0|   Permit Issued|                |     FULTON|       145|        AVE|     SFD - Detached|Solar Domestic Ho...|6579|             13|\n",
       "|      2009-09-09|    2014-10-28|Permit for instal...| 2009-09-22| 09 166933|Small Residential...|   M2M|           0|          Closed|                |   GOULDING|       143|        AVE|     SFD - Detached|Solar Domestic Ho...|6580|             13|\n",
       "+----------------+--------------+--------------------+-----------+----------+--------------------+------+------------+----------------+----------------+-----------+----------+-----------+-------------------+--------------------+----+---------------+\n",
       "only showing top 20 rows"
      ]
     },
     "execution_count": 8,
     "metadata": {},
     "output_type": "execute_result"
    }
   ],
   "source": [
    "df_joined"
   ]
  },
  {
   "cell_type": "markdown",
   "id": "cfff06e6-74f3-4298-80c6-86f52c5afb4a",
   "metadata": {
    "jp-MarkdownHeadingCollapsed": true,
    "tags": []
   },
   "source": [
    "## 16. Find out the First 3 Applicants of the Solar Water Heater plant for each year"
   ]
  },
  {
   "cell_type": "code",
   "execution_count": 35,
   "id": "bbfc51f5-6e2a-4c4f-bf17-7d655eb1c09d",
   "metadata": {},
   "outputs": [],
   "source": [
    "from pyspark.sql.window import Window\n",
    "\n",
    "spec = Window. \\\n",
    "    partitionBy(col(\"APPLICATION_YEAR\")). \\\n",
    "    orderBy(desc(\"APPLICATION_YEAR\"))"
   ]
  },
  {
   "cell_type": "code",
   "execution_count": 33,
   "id": "13495319-5b79-4a51-8c51-492f47927dcd",
   "metadata": {},
   "outputs": [
    {
     "data": {
      "text/plain": [
       "pyspark.sql.window.WindowSpec"
      ]
     },
     "execution_count": 33,
     "metadata": {},
     "output_type": "execute_result"
    }
   ],
   "source": [
    "type(spec)"
   ]
  },
  {
   "cell_type": "code",
   "execution_count": 25,
   "id": "e02e393e-7e7c-4e3a-b9a6-59984305e194",
   "metadata": {},
   "outputs": [
    {
     "name": "stdout",
     "output_type": "stream",
     "text": [
      "+----+----------------+------+\n",
      "| _id|APPLICATION_YEAR|NUMBER|\n",
      "+----+----------------+------+\n",
      "|6724|            2017|     1|\n",
      "|6721|            2016|     1|\n",
      "|6722|            2016|     2|\n",
      "|6723|            2016|     3|\n",
      "|6719|            2015|     1|\n",
      "|6720|            2015|     2|\n",
      "|6717|            2014|     1|\n",
      "|6718|            2014|     2|\n",
      "|6716|            2013|     1|\n",
      "|6713|            2012|     1|\n",
      "|6714|            2012|     2|\n",
      "|6715|            2012|     3|\n",
      "|6702|            2011|     1|\n",
      "|6703|            2011|     2|\n",
      "|6704|            2011|     3|\n",
      "|6645|            2010|     1|\n",
      "|6646|            2010|     2|\n",
      "|6647|            2010|     3|\n",
      "|6561|            2009|     1|\n",
      "|6562|            2009|     2|\n",
      "|6563|            2009|     3|\n",
      "+----+----------------+------+\n",
      "\n"
     ]
    }
   ],
   "source": [
    "df.withColumn(\"APPLICATION_YEAR\", year(\"APPLICATION_DATE\")). \\\n",
    "    withColumn(\"NUMBER\", row_number().over(spec)). \\\n",
    "    filter(\"NUMBER <= 3\"). \\\n",
    "    select(col(\"_id\"),col(\"APPLICATION_YEAR\"), col(\"NUMBER\")). \\\n",
    "    orderBy(col(\"APPLICATION_YEAR\").desc(), col(\"NUMBER\")).show(30)"
   ]
  },
  {
   "cell_type": "markdown",
   "id": "7a27bdc2-bdc6-45b0-b4ca-d90b95532f1c",
   "metadata": {
    "jp-MarkdownHeadingCollapsed": true,
    "tags": []
   },
   "source": [
    "## 17. Find Unique Application's Dates and view in ascending order"
   ]
  },
  {
   "cell_type": "code",
   "execution_count": 5,
   "id": "794865d8-5e35-4217-b3d9-79f799961964",
   "metadata": {},
   "outputs": [
    {
     "data": {
      "text/html": [
       "<table border='1'>\n",
       "<tr><th>APPLICATION_DATE</th></tr>\n",
       "<tr><td>2009-05-07</td></tr>\n",
       "<tr><td>2009-05-11</td></tr>\n",
       "<tr><td>2009-06-11</td></tr>\n",
       "<tr><td>2009-06-19</td></tr>\n",
       "<tr><td>2009-08-04</td></tr>\n",
       "<tr><td>2009-08-08</td></tr>\n",
       "<tr><td>2009-08-20</td></tr>\n",
       "<tr><td>2009-08-31</td></tr>\n",
       "<tr><td>2009-09-09</td></tr>\n",
       "<tr><td>2009-10-02</td></tr>\n",
       "<tr><td>2009-10-23</td></tr>\n",
       "<tr><td>2009-10-27</td></tr>\n",
       "<tr><td>2009-11-03</td></tr>\n",
       "<tr><td>2009-11-04</td></tr>\n",
       "<tr><td>2009-11-09</td></tr>\n",
       "<tr><td>2009-11-10</td></tr>\n",
       "<tr><td>2009-11-13</td></tr>\n",
       "<tr><td>2009-11-17</td></tr>\n",
       "<tr><td>2009-11-20</td></tr>\n",
       "<tr><td>2009-11-23</td></tr>\n",
       "</table>\n",
       "only showing top 20 rows\n"
      ],
      "text/plain": [
       "+----------------+\n",
       "|APPLICATION_DATE|\n",
       "+----------------+\n",
       "|      2009-05-07|\n",
       "|      2009-05-11|\n",
       "|      2009-06-11|\n",
       "|      2009-06-19|\n",
       "|      2009-08-04|\n",
       "|      2009-08-08|\n",
       "|      2009-08-20|\n",
       "|      2009-08-31|\n",
       "|      2009-09-09|\n",
       "|      2009-10-02|\n",
       "|      2009-10-23|\n",
       "|      2009-10-27|\n",
       "|      2009-11-03|\n",
       "|      2009-11-04|\n",
       "|      2009-11-09|\n",
       "|      2009-11-10|\n",
       "|      2009-11-13|\n",
       "|      2009-11-17|\n",
       "|      2009-11-20|\n",
       "|      2009-11-23|\n",
       "+----------------+\n",
       "only showing top 20 rows"
      ]
     },
     "execution_count": 5,
     "metadata": {},
     "output_type": "execute_result"
    }
   ],
   "source": [
    "df.select(\"APPLICATION_DATE\").distinct().orderBy(\"APPLICATION_DATE\")"
   ]
  },
  {
   "cell_type": "markdown",
   "id": "8b197ee4-adf9-4852-8c5e-e95304051198",
   "metadata": {
    "jp-MarkdownHeadingCollapsed": true,
    "tags": []
   },
   "source": [
    "## 18. Save data partitioned by year, with gzip compression and parquet format"
   ]
  },
  {
   "cell_type": "code",
   "execution_count": 31,
   "id": "ef74a0c7-a364-4b20-8ae7-4ba97c8d6fd6",
   "metadata": {},
   "outputs": [],
   "source": [
    "df.withColumn(\"YEAR\", year(\"APPLICATION_DATE\")). \\\n",
    "    write.parquet(\"/public/mockExam\", partitionBy = \"YEAR\", compression = \"gzip\")"
   ]
  },
  {
   "cell_type": "code",
   "execution_count": 32,
   "id": "e7c6ef9a-2be2-4923-b245-667cb63cd1d4",
   "metadata": {},
   "outputs": [
    {
     "name": "stdout",
     "output_type": "stream",
     "text": [
      "Found 10 items\n",
      "drwxr-xr-x   - evivancovid supergroup          0 2022-05-26 18:23 /public/mockExam/YEAR=2009\n",
      "drwxr-xr-x   - evivancovid supergroup          0 2022-05-26 18:23 /public/mockExam/YEAR=2010\n",
      "drwxr-xr-x   - evivancovid supergroup          0 2022-05-26 18:23 /public/mockExam/YEAR=2011\n",
      "drwxr-xr-x   - evivancovid supergroup          0 2022-05-26 18:23 /public/mockExam/YEAR=2012\n",
      "drwxr-xr-x   - evivancovid supergroup          0 2022-05-26 18:23 /public/mockExam/YEAR=2013\n",
      "drwxr-xr-x   - evivancovid supergroup          0 2022-05-26 18:23 /public/mockExam/YEAR=2014\n",
      "drwxr-xr-x   - evivancovid supergroup          0 2022-05-26 18:23 /public/mockExam/YEAR=2015\n",
      "drwxr-xr-x   - evivancovid supergroup          0 2022-05-26 18:23 /public/mockExam/YEAR=2016\n",
      "drwxr-xr-x   - evivancovid supergroup          0 2022-05-26 18:23 /public/mockExam/YEAR=2017\n",
      "-rw-r--r--   1 evivancovid supergroup          0 2022-05-26 18:23 /public/mockExam/_SUCCESS\n"
     ]
    }
   ],
   "source": [
    "%%sh\n",
    "\n",
    "hdfs dfs -ls /public/mockExam"
   ]
  },
  {
   "cell_type": "markdown",
   "id": "cc2e4416-5a5c-4998-b2ce-3ec5acd1efde",
   "metadata": {
    "jp-MarkdownHeadingCollapsed": true,
    "tags": []
   },
   "source": [
    "## 19. Read the above partitioned data, which is in parquet format, using spark API's"
   ]
  },
  {
   "cell_type": "code",
   "execution_count": 36,
   "id": "8a7e3a58-c558-401b-b392-bf1c714fd8cd",
   "metadata": {},
   "outputs": [],
   "source": [
    "parquet_df = spark.read.parquet(\"/public/mockExam/*\")"
   ]
  },
  {
   "cell_type": "code",
   "execution_count": 39,
   "id": "817edcec-2d70-440e-a7b7-e5e11c2d9fab",
   "metadata": {},
   "outputs": [
    {
     "name": "stdout",
     "output_type": "stream",
     "text": [
      "root\n",
      " |-- APPLICATION_DATE: string (nullable = true)\n",
      " |-- COMPLETED_DATE: string (nullable = true)\n",
      " |-- DESCRIPTION: string (nullable = true)\n",
      " |-- ISSUED_DATE: string (nullable = true)\n",
      " |-- PERMIT_NUM: string (nullable = true)\n",
      " |-- PERMIT_TYPE: string (nullable = true)\n",
      " |-- POSTAL: string (nullable = true)\n",
      " |-- REVISION_NUM: long (nullable = true)\n",
      " |-- STATUS: string (nullable = true)\n",
      " |-- STREET_DIRECTION: string (nullable = true)\n",
      " |-- STREET_NAME: string (nullable = true)\n",
      " |-- STREET_NUM: string (nullable = true)\n",
      " |-- STREET_TYPE: string (nullable = true)\n",
      " |-- STRUCTURE_TYPE: string (nullable = true)\n",
      " |-- WORK: string (nullable = true)\n",
      " |-- _id: long (nullable = true)\n",
      "\n"
     ]
    }
   ],
   "source": [
    "parquet_df.printSchema()"
   ]
  },
  {
   "cell_type": "markdown",
   "id": "56c85e46-6493-441a-a65b-6fe111f9eac2",
   "metadata": {
    "jp-MarkdownHeadingCollapsed": true,
    "tags": []
   },
   "source": [
    "## 20. Read the data related to 2009 from the partitioned data"
   ]
  },
  {
   "cell_type": "code",
   "execution_count": 40,
   "id": "e2d5a384-47a4-4640-91f7-4be7ea863188",
   "metadata": {},
   "outputs": [],
   "source": [
    "parquet_df_2009 = spark.read.parquet(\"/public/mockExam/YEAR=2009\")"
   ]
  },
  {
   "cell_type": "code",
   "execution_count": 41,
   "id": "6b39ed0c-c026-4ca1-a881-cc6c3dd13d0e",
   "metadata": {},
   "outputs": [
    {
     "data": {
      "text/html": [
       "<table border='1'>\n",
       "<tr><th>APPLICATION_DATE</th><th>COMPLETED_DATE</th><th>DESCRIPTION</th><th>ISSUED_DATE</th><th>PERMIT_NUM</th><th>PERMIT_TYPE</th><th>POSTAL</th><th>REVISION_NUM</th><th>STATUS</th><th>STREET_DIRECTION</th><th>STREET_NAME</th><th>STREET_NUM</th><th>STREET_TYPE</th><th>STRUCTURE_TYPE</th><th>WORK</th><th>_id</th></tr>\n",
       "<tr><td>2009-05-07</td><td>2010-10-05</td><td>installation of s...</td><td>2009-05-11</td><td>09 135007</td><td>Small Residential...</td><td>M4K</td><td>0</td><td>Closed</td><td> </td><td>GRANDVIEW</td><td>4</td><td>AVE</td><td>SFD - Semi-Detached</td><td>Solar Domestic Ho...</td><td>6561</td></tr>\n",
       "<tr><td>2009-05-07</td><td>null</td><td>Installation of a...</td><td>2009-05-11</td><td>09 135023</td><td>Small Residential...</td><td>M4M</td><td>0</td><td>Inspection</td><td> </td><td>JONES</td><td>81</td><td>AVE</td><td>SFD - Semi-Detached</td><td>Solar Domestic Ho...</td><td>6562</td></tr>\n",
       "<tr><td>2009-05-11</td><td>2011-01-14</td><td>Proposal to insta...</td><td>2009-05-20</td><td>09 136204</td><td>Small Residential...</td><td>M4J</td><td>0</td><td>Closed</td><td> </td><td>BOULTBEE</td><td>114</td><td>AVE</td><td>SFD - Semi-Detached</td><td>Solar Domestic Ho...</td><td>6563</td></tr>\n",
       "<tr><td>2009-06-11</td><td>2010-03-03</td><td>Permit for instal...</td><td>2009-08-17</td><td>09 148320</td><td>Small Residential...</td><td>M4M</td><td>0</td><td>Closed</td><td>E</td><td>GERRARD</td><td>899</td><td>ST</td><td>Converted House</td><td>Solar Domestic Ho...</td><td>6564</td></tr>\n",
       "<tr><td>2009-06-11</td><td>null</td><td>Permit for instal...</td><td>2009-08-17</td><td>09 148341</td><td>Small Residential...</td><td>M4M</td><td>0</td><td>Permit Issued</td><td> </td><td>LOGAN</td><td>201</td><td>AVE</td><td>SFD - Semi-Detached</td><td>Solar Domestic Ho...</td><td>6565</td></tr>\n",
       "<tr><td>2009-06-11</td><td>2011-02-15</td><td>Permit for instal...</td><td>2009-08-17</td><td>09 148351</td><td>Small Residential...</td><td>M4K</td><td>0</td><td>Cancelled</td><td> </td><td>BROWNING</td><td>5</td><td>AVE</td><td>SFD - Detached</td><td>Solar Domestic Ho...</td><td>6566</td></tr>\n",
       "<tr><td>2009-06-19</td><td>2010-07-14</td><td>Permit for instal...</td><td>2010-02-03</td><td>09 152120</td><td>Small Residential...</td><td>M4M</td><td>0</td><td>Closed</td><td> </td><td>LESLIE</td><td>271</td><td>ST</td><td>SFD - Detached</td><td>Solar Domestic Ho...</td><td>6567</td></tr>\n",
       "<tr><td>2009-08-04</td><td>null</td><td>Installation of 2...</td><td>2009-11-18</td><td>09 153159</td><td>Small Residential...</td><td>M4M</td><td>0</td><td>Inspection</td><td> </td><td>BRIGHTON</td><td>11</td><td>AVE</td><td>SFD - Detached</td><td>Solar Domestic Ho...</td><td>6568</td></tr>\n",
       "<tr><td>2009-08-04</td><td>null</td><td>Permit for instal...</td><td>2009-08-17</td><td>09 153172</td><td>Small Residential...</td><td>M9B</td><td>0</td><td>Permit Issued</td><td> </td><td>GREENFIELD</td><td>69</td><td>DR</td><td>SFD - Detached</td><td>Solar Domestic Ho...</td><td>6569</td></tr>\n",
       "<tr><td>2009-08-04</td><td>2017-11-17</td><td>Permit for instal...</td><td>2009-08-17</td><td>09 153185</td><td>Small Residential...</td><td>M4L</td><td>0</td><td>Cancelled</td><td> </td><td>SANDFORD</td><td>11</td><td>AVE</td><td>SFD - Semi-Detached</td><td>Solar Domestic Ho...</td><td>6570</td></tr>\n",
       "<tr><td>2009-08-04</td><td>2010-10-05</td><td>Permit for instal...</td><td>2009-08-17</td><td>09 153191</td><td>Small Residential...</td><td>M4K</td><td>0</td><td>Closed</td><td> </td><td>BROADVIEW</td><td>511</td><td>AVE</td><td>SFD - Detached</td><td>Solar Domestic Ho...</td><td>6571</td></tr>\n",
       "<tr><td>2009-08-08</td><td>null</td><td>Permit for instal...</td><td>2009-08-12</td><td>09 155040</td><td>Small Residential...</td><td>M6C</td><td>0</td><td>Inspection</td><td> </td><td>HUMEWOOD</td><td>8</td><td>DR</td><td>SFD - Detached</td><td>Solar Domestic Ho...</td><td>6572</td></tr>\n",
       "<tr><td>2009-08-20</td><td>2010-05-21</td><td>Permit for instal...</td><td>2009-09-21</td><td>09 160244</td><td>Small Residential...</td><td>M4E</td><td>0</td><td>Closed</td><td> </td><td>KIMBERLEY</td><td>24</td><td>AVE</td><td>SFD - Detached</td><td>Solar Domestic Ho...</td><td>6573</td></tr>\n",
       "<tr><td>2009-08-31</td><td>null</td><td>Permit for instal...</td><td>2009-09-22</td><td>09 163859</td><td>Small Residential...</td><td>M4W</td><td>0</td><td>Work Not Started</td><td> </td><td>EDGEWOOD</td><td>14</td><td>CRES</td><td>SFD - Detached</td><td>Solar Domestic Ho...</td><td>6574</td></tr>\n",
       "<tr><td>2009-08-31</td><td>2010-08-16</td><td>Permit for instal...</td><td>2009-12-03</td><td>09 163896</td><td>Small Residential...</td><td>M4L</td><td>0</td><td>Closed</td><td> </td><td>HASTINGS</td><td>15</td><td>AVE</td><td>SFD - Semi-Detached</td><td>Solar Domestic Ho...</td><td>6575</td></tr>\n",
       "<tr><td>2009-08-31</td><td>null</td><td>Permit for instal...</td><td>2009-09-22</td><td>09 163937</td><td>Small Residential...</td><td>M2N</td><td>0</td><td>Permit Issued</td><td> </td><td>PARKVIEW</td><td>373</td><td>AVE</td><td>SFD - Detached</td><td>Solar Domestic Ho...</td><td>6576</td></tr>\n",
       "<tr><td>2009-08-31</td><td>null</td><td>Permit for instal...</td><td>2009-09-22</td><td>09 163962</td><td>Small Residential...</td><td>M3B</td><td>0</td><td>Permit Issued</td><td> </td><td>GREENGATE</td><td>39</td><td>RD</td><td>SFD - Detached</td><td>Solar Domestic Ho...</td><td>6577</td></tr>\n",
       "<tr><td>2009-09-09</td><td>2012-07-23</td><td>Permit for instal...</td><td>2009-09-22</td><td>09 166795</td><td>Small Residential...</td><td>M4L</td><td>0</td><td>Closed</td><td> </td><td>GLENMORE</td><td>132</td><td>RD</td><td>SFD - Detached</td><td>Solar Domestic Ho...</td><td>6578</td></tr>\n",
       "<tr><td>2009-09-09</td><td>null</td><td>Permit for instal...</td><td>2009-09-22</td><td>09 166819</td><td>Small Residential...</td><td>M4K</td><td>0</td><td>Permit Issued</td><td> </td><td>FULTON</td><td>145</td><td>AVE</td><td>SFD - Detached</td><td>Solar Domestic Ho...</td><td>6579</td></tr>\n",
       "<tr><td>2009-09-09</td><td>2014-10-28</td><td>Permit for instal...</td><td>2009-09-22</td><td>09 166933</td><td>Small Residential...</td><td>M2M</td><td>0</td><td>Closed</td><td> </td><td>GOULDING</td><td>143</td><td>AVE</td><td>SFD - Detached</td><td>Solar Domestic Ho...</td><td>6580</td></tr>\n",
       "</table>\n",
       "only showing top 20 rows\n"
      ],
      "text/plain": [
       "+----------------+--------------+--------------------+-----------+----------+--------------------+------+------------+----------------+----------------+-----------+----------+-----------+-------------------+--------------------+----+\n",
       "|APPLICATION_DATE|COMPLETED_DATE|         DESCRIPTION|ISSUED_DATE|PERMIT_NUM|         PERMIT_TYPE|POSTAL|REVISION_NUM|          STATUS|STREET_DIRECTION|STREET_NAME|STREET_NUM|STREET_TYPE|     STRUCTURE_TYPE|                WORK| _id|\n",
       "+----------------+--------------+--------------------+-----------+----------+--------------------+------+------------+----------------+----------------+-----------+----------+-----------+-------------------+--------------------+----+\n",
       "|      2009-05-07|    2010-10-05|installation of s...| 2009-05-11| 09 135007|Small Residential...|   M4K|           0|          Closed|                |  GRANDVIEW|         4|        AVE|SFD - Semi-Detached|Solar Domestic Ho...|6561|\n",
       "|      2009-05-07|          null|Installation of a...| 2009-05-11| 09 135023|Small Residential...|   M4M|           0|      Inspection|                |      JONES|        81|        AVE|SFD - Semi-Detached|Solar Domestic Ho...|6562|\n",
       "|      2009-05-11|    2011-01-14|Proposal to insta...| 2009-05-20| 09 136204|Small Residential...|   M4J|           0|          Closed|                |   BOULTBEE|       114|        AVE|SFD - Semi-Detached|Solar Domestic Ho...|6563|\n",
       "|      2009-06-11|    2010-03-03|Permit for instal...| 2009-08-17| 09 148320|Small Residential...|   M4M|           0|          Closed|               E|    GERRARD|       899|         ST|    Converted House|Solar Domestic Ho...|6564|\n",
       "|      2009-06-11|          null|Permit for instal...| 2009-08-17| 09 148341|Small Residential...|   M4M|           0|   Permit Issued|                |      LOGAN|       201|        AVE|SFD - Semi-Detached|Solar Domestic Ho...|6565|\n",
       "|      2009-06-11|    2011-02-15|Permit for instal...| 2009-08-17| 09 148351|Small Residential...|   M4K|           0|       Cancelled|                |   BROWNING|         5|        AVE|     SFD - Detached|Solar Domestic Ho...|6566|\n",
       "|      2009-06-19|    2010-07-14|Permit for instal...| 2010-02-03| 09 152120|Small Residential...|   M4M|           0|          Closed|                |     LESLIE|       271|         ST|     SFD - Detached|Solar Domestic Ho...|6567|\n",
       "|      2009-08-04|          null|Installation of 2...| 2009-11-18| 09 153159|Small Residential...|   M4M|           0|      Inspection|                |   BRIGHTON|        11|        AVE|     SFD - Detached|Solar Domestic Ho...|6568|\n",
       "|      2009-08-04|          null|Permit for instal...| 2009-08-17| 09 153172|Small Residential...|   M9B|           0|   Permit Issued|                | GREENFIELD|        69|         DR|     SFD - Detached|Solar Domestic Ho...|6569|\n",
       "|      2009-08-04|    2017-11-17|Permit for instal...| 2009-08-17| 09 153185|Small Residential...|   M4L|           0|       Cancelled|                |   SANDFORD|        11|        AVE|SFD - Semi-Detached|Solar Domestic Ho...|6570|\n",
       "|      2009-08-04|    2010-10-05|Permit for instal...| 2009-08-17| 09 153191|Small Residential...|   M4K|           0|          Closed|                |  BROADVIEW|       511|        AVE|     SFD - Detached|Solar Domestic Ho...|6571|\n",
       "|      2009-08-08|          null|Permit for instal...| 2009-08-12| 09 155040|Small Residential...|   M6C|           0|      Inspection|                |   HUMEWOOD|         8|         DR|     SFD - Detached|Solar Domestic Ho...|6572|\n",
       "|      2009-08-20|    2010-05-21|Permit for instal...| 2009-09-21| 09 160244|Small Residential...|   M4E|           0|          Closed|                |  KIMBERLEY|        24|        AVE|     SFD - Detached|Solar Domestic Ho...|6573|\n",
       "|      2009-08-31|          null|Permit for instal...| 2009-09-22| 09 163859|Small Residential...|   M4W|           0|Work Not Started|                |   EDGEWOOD|        14|       CRES|     SFD - Detached|Solar Domestic Ho...|6574|\n",
       "|      2009-08-31|    2010-08-16|Permit for instal...| 2009-12-03| 09 163896|Small Residential...|   M4L|           0|          Closed|                |   HASTINGS|        15|        AVE|SFD - Semi-Detached|Solar Domestic Ho...|6575|\n",
       "|      2009-08-31|          null|Permit for instal...| 2009-09-22| 09 163937|Small Residential...|   M2N|           0|   Permit Issued|                |   PARKVIEW|       373|        AVE|     SFD - Detached|Solar Domestic Ho...|6576|\n",
       "|      2009-08-31|          null|Permit for instal...| 2009-09-22| 09 163962|Small Residential...|   M3B|           0|   Permit Issued|                |  GREENGATE|        39|         RD|     SFD - Detached|Solar Domestic Ho...|6577|\n",
       "|      2009-09-09|    2012-07-23|Permit for instal...| 2009-09-22| 09 166795|Small Residential...|   M4L|           0|          Closed|                |   GLENMORE|       132|         RD|     SFD - Detached|Solar Domestic Ho...|6578|\n",
       "|      2009-09-09|          null|Permit for instal...| 2009-09-22| 09 166819|Small Residential...|   M4K|           0|   Permit Issued|                |     FULTON|       145|        AVE|     SFD - Detached|Solar Domestic Ho...|6579|\n",
       "|      2009-09-09|    2014-10-28|Permit for instal...| 2009-09-22| 09 166933|Small Residential...|   M2M|           0|          Closed|                |   GOULDING|       143|        AVE|     SFD - Detached|Solar Domestic Ho...|6580|\n",
       "+----------------+--------------+--------------------+-----------+----------+--------------------+------+------------+----------------+----------------+-----------+----------+-----------+-------------------+--------------------+----+\n",
       "only showing top 20 rows"
      ]
     },
     "execution_count": 41,
     "metadata": {},
     "output_type": "execute_result"
    }
   ],
   "source": [
    "parquet_df_2009"
   ]
  },
  {
   "cell_type": "markdown",
   "id": "87ef1ec1-b4b3-45ca-9491-16f67f631c4c",
   "metadata": {
    "jp-MarkdownHeadingCollapsed": true,
    "tags": []
   },
   "source": [
    "## 21. Save data partitioned by year, with lzo compression and orc format."
   ]
  },
  {
   "cell_type": "code",
   "execution_count": 43,
   "id": "dc652215-b71e-42bb-83aa-a1fa98c2f025",
   "metadata": {},
   "outputs": [],
   "source": [
    "df.withColumn(\"YEAR\", year(\"APPLICATION_DATE\")). \\\n",
    "    write.orc(\"/public/mockExam\", mode = \"overwrite\", partitionBy = \"YEAR\", compression = \"lzo\")"
   ]
  },
  {
   "cell_type": "code",
   "execution_count": 44,
   "id": "05a33635-bc7a-4db3-bf86-3e34f32e65ca",
   "metadata": {},
   "outputs": [
    {
     "name": "stdout",
     "output_type": "stream",
     "text": [
      "Found 10 items\n",
      "drwxr-xr-x   - evivancovid supergroup          0 2022-05-26 19:07 /public/mockExam/YEAR=2009\n",
      "drwxr-xr-x   - evivancovid supergroup          0 2022-05-26 19:07 /public/mockExam/YEAR=2010\n",
      "drwxr-xr-x   - evivancovid supergroup          0 2022-05-26 19:07 /public/mockExam/YEAR=2011\n",
      "drwxr-xr-x   - evivancovid supergroup          0 2022-05-26 19:07 /public/mockExam/YEAR=2012\n",
      "drwxr-xr-x   - evivancovid supergroup          0 2022-05-26 19:07 /public/mockExam/YEAR=2013\n",
      "drwxr-xr-x   - evivancovid supergroup          0 2022-05-26 19:07 /public/mockExam/YEAR=2014\n",
      "drwxr-xr-x   - evivancovid supergroup          0 2022-05-26 19:07 /public/mockExam/YEAR=2015\n",
      "drwxr-xr-x   - evivancovid supergroup          0 2022-05-26 19:07 /public/mockExam/YEAR=2016\n",
      "drwxr-xr-x   - evivancovid supergroup          0 2022-05-26 19:07 /public/mockExam/YEAR=2017\n",
      "-rw-r--r--   1 evivancovid supergroup          0 2022-05-26 19:07 /public/mockExam/_SUCCESS\n"
     ]
    }
   ],
   "source": [
    "%%sh\n",
    "\n",
    "hdfs dfs -ls /public/mockExam"
   ]
  },
  {
   "cell_type": "markdown",
   "id": "48fcaaac-7a8b-4992-9d8b-df7fc7dfc50b",
   "metadata": {
    "jp-MarkdownHeadingCollapsed": true,
    "tags": []
   },
   "source": [
    "## 22. Save data partitioned by year as a Spark Metastore table. Also create bucket by 5 using STATUS column"
   ]
  },
  {
   "cell_type": "code",
   "execution_count": 13,
   "id": "31f73c40-51eb-4f69-877e-4a50bca2fa43",
   "metadata": {},
   "outputs": [],
   "source": [
    "df.withColumn(\"year\", year(\"APPLICATION_DATE\")). \\\n",
    "    write.bucketBy(5, \"STATUS\"). \\\n",
    "    saveAsTable(\"bucketed_table\")"
   ]
  },
  {
   "cell_type": "code",
   "execution_count": 14,
   "id": "70376573-2566-459a-88b7-3bee19440b14",
   "metadata": {},
   "outputs": [],
   "source": [
    "df_bucket = spark.read.table(\"bucketed_table\")"
   ]
  },
  {
   "cell_type": "code",
   "execution_count": 18,
   "id": "0d9b129e-e897-484b-b0d7-22cff52e7284",
   "metadata": {},
   "outputs": [
    {
     "data": {
      "text/html": [
       "<table border='1'>\n",
       "<tr><th>APPLICATION_DATE</th><th>COMPLETED_DATE</th><th>DESCRIPTION</th><th>ISSUED_DATE</th><th>PERMIT_NUM</th><th>PERMIT_TYPE</th><th>POSTAL</th><th>REVISION_NUM</th><th>STATUS</th><th>STREET_DIRECTION</th><th>STREET_NAME</th><th>STREET_NUM</th><th>STREET_TYPE</th><th>STRUCTURE_TYPE</th><th>WORK</th><th>_id</th><th>year</th></tr>\n",
       "<tr><td>2009-05-07</td><td>2010-10-05</td><td>installation of s...</td><td>2009-05-11</td><td>09 135007</td><td>Small Residential...</td><td>M4K</td><td>0</td><td>Closed</td><td> </td><td>GRANDVIEW</td><td>4</td><td>AVE</td><td>SFD - Semi-Detached</td><td>Solar Domestic Ho...</td><td>6561</td><td>2009</td></tr>\n",
       "<tr><td>2009-05-11</td><td>2011-01-14</td><td>Proposal to insta...</td><td>2009-05-20</td><td>09 136204</td><td>Small Residential...</td><td>M4J</td><td>0</td><td>Closed</td><td> </td><td>BOULTBEE</td><td>114</td><td>AVE</td><td>SFD - Semi-Detached</td><td>Solar Domestic Ho...</td><td>6563</td><td>2009</td></tr>\n",
       "<tr><td>2009-06-11</td><td>2010-03-03</td><td>Permit for instal...</td><td>2009-08-17</td><td>09 148320</td><td>Small Residential...</td><td>M4M</td><td>0</td><td>Closed</td><td>E</td><td>GERRARD</td><td>899</td><td>ST</td><td>Converted House</td><td>Solar Domestic Ho...</td><td>6564</td><td>2009</td></tr>\n",
       "<tr><td>2009-06-19</td><td>2010-07-14</td><td>Permit for instal...</td><td>2010-02-03</td><td>09 152120</td><td>Small Residential...</td><td>M4M</td><td>0</td><td>Closed</td><td> </td><td>LESLIE</td><td>271</td><td>ST</td><td>SFD - Detached</td><td>Solar Domestic Ho...</td><td>6567</td><td>2009</td></tr>\n",
       "<tr><td>2009-08-04</td><td>2010-10-05</td><td>Permit for instal...</td><td>2009-08-17</td><td>09 153191</td><td>Small Residential...</td><td>M4K</td><td>0</td><td>Closed</td><td> </td><td>BROADVIEW</td><td>511</td><td>AVE</td><td>SFD - Detached</td><td>Solar Domestic Ho...</td><td>6571</td><td>2009</td></tr>\n",
       "<tr><td>2009-08-20</td><td>2010-05-21</td><td>Permit for instal...</td><td>2009-09-21</td><td>09 160244</td><td>Small Residential...</td><td>M4E</td><td>0</td><td>Closed</td><td> </td><td>KIMBERLEY</td><td>24</td><td>AVE</td><td>SFD - Detached</td><td>Solar Domestic Ho...</td><td>6573</td><td>2009</td></tr>\n",
       "<tr><td>2009-08-31</td><td>2010-08-16</td><td>Permit for instal...</td><td>2009-12-03</td><td>09 163896</td><td>Small Residential...</td><td>M4L</td><td>0</td><td>Closed</td><td> </td><td>HASTINGS</td><td>15</td><td>AVE</td><td>SFD - Semi-Detached</td><td>Solar Domestic Ho...</td><td>6575</td><td>2009</td></tr>\n",
       "<tr><td>2009-09-09</td><td>2012-07-23</td><td>Permit for instal...</td><td>2009-09-22</td><td>09 166795</td><td>Small Residential...</td><td>M4L</td><td>0</td><td>Closed</td><td> </td><td>GLENMORE</td><td>132</td><td>RD</td><td>SFD - Detached</td><td>Solar Domestic Ho...</td><td>6578</td><td>2009</td></tr>\n",
       "<tr><td>2009-09-09</td><td>2014-10-28</td><td>Permit for instal...</td><td>2009-09-22</td><td>09 166933</td><td>Small Residential...</td><td>M2M</td><td>0</td><td>Closed</td><td> </td><td>GOULDING</td><td>143</td><td>AVE</td><td>SFD - Detached</td><td>Solar Domestic Ho...</td><td>6580</td><td>2009</td></tr>\n",
       "<tr><td>2009-10-02</td><td>2010-01-29</td><td>Permit for instal...</td><td>2009-10-27</td><td>09 175330</td><td>Small Residential...</td><td>M4L</td><td>0</td><td>Closed</td><td> </td><td>HIAWATHA</td><td>94</td><td>RD</td><td>SFD - Detached</td><td>Solar Domestic Ho...</td><td>6582</td><td>2009</td></tr>\n",
       "<tr><td>2009-10-27</td><td>2010-05-26</td><td>Permit for instal...</td><td>2009-11-05</td><td>09 182944</td><td>Small Residential...</td><td>M6B</td><td>0</td><td>Closed</td><td> </td><td>ELM RIDGE</td><td>52</td><td>DR</td><td>SFD - Detached</td><td>Solar Domestic Ho...</td><td>6586</td><td>2009</td></tr>\n",
       "<tr><td>2009-10-27</td><td>2010-05-13</td><td>Permit for instal...</td><td>2009-10-29</td><td>09 182964</td><td>Small Residential...</td><td>M4M</td><td>0</td><td>Closed</td><td> </td><td>BLACKBURN</td><td>27</td><td>ST</td><td>SFD - Townhouse</td><td>Solar Domestic Ho...</td><td>6589</td><td>2009</td></tr>\n",
       "<tr><td>2009-11-03</td><td>2010-03-24</td><td>Permit for instal...</td><td>2009-11-04</td><td>09 184942</td><td>Small Residential...</td><td>M4K</td><td>0</td><td>Closed</td><td> </td><td>HAMPTON</td><td>42</td><td>AVE</td><td>SFD - Semi-Detached</td><td>Solar Domestic Ho...</td><td>6590</td><td>2009</td></tr>\n",
       "<tr><td>2009-11-03</td><td>2011-03-16</td><td>Permit for instal...</td><td>2009-12-03</td><td>09 184957</td><td>Small Residential...</td><td>M4J</td><td>0</td><td>Closed</td><td> </td><td>CHATHAM</td><td>136</td><td>AVE</td><td>SFD - Detached</td><td>Solar Domestic Ho...</td><td>6591</td><td>2009</td></tr>\n",
       "<tr><td>2009-11-04</td><td>2010-09-21</td><td>Permit for instal...</td><td>2009-11-04</td><td>09 185472</td><td>Small Residential...</td><td>M4K</td><td>0</td><td>Closed</td><td> </td><td>LOGAN</td><td>589</td><td>AVE</td><td>SFD - Semi-Detached</td><td>Solar Domestic Ho...</td><td>6592</td><td>2009</td></tr>\n",
       "<tr><td>2009-11-04</td><td>2010-05-06</td><td>Permit for instal...</td><td>2009-12-03</td><td>09 185482</td><td>Small Residential...</td><td>M4M</td><td>0</td><td>Closed</td><td> </td><td>WINNIFRED</td><td>77</td><td>AVE</td><td>SFD - Detached</td><td>Solar Domestic Ho...</td><td>6593</td><td>2009</td></tr>\n",
       "<tr><td>2009-11-09</td><td>2010-10-06</td><td>Permit for instal...</td><td>2009-11-12</td><td>09 186794</td><td>Small Residential...</td><td>M4E</td><td>0</td><td>Closed</td><td> </td><td>BALSAM</td><td>25</td><td>AVE</td><td>SFD - Detached</td><td>Solar Domestic Ho...</td><td>6595</td><td>2009</td></tr>\n",
       "<tr><td>2009-11-10</td><td>2010-09-30</td><td>Permit for instal...</td><td>2009-11-13</td><td>09 186869</td><td>Small Residential...</td><td>M1M</td><td>0</td><td>Closed</td><td> </td><td>THATCHER</td><td>57</td><td>AVE</td><td>SFD - Detached</td><td>Solar Domestic Ho...</td><td>6597</td><td>2009</td></tr>\n",
       "<tr><td>2009-11-10</td><td>2011-03-23</td><td>Permit for instal...</td><td>2009-11-12</td><td>09 186870</td><td>Small Residential...</td><td>M4L</td><td>0</td><td>Closed</td><td> </td><td>ASHDALE</td><td>61</td><td>AVE</td><td>SFD - Semi-Detached</td><td>Solar Domestic Ho...</td><td>6598</td><td>2009</td></tr>\n",
       "<tr><td>2009-11-10</td><td>2012-03-20</td><td>Permit for instal...</td><td>2009-11-12</td><td>09 186899</td><td>Small Residential...</td><td>M4J</td><td>0</td><td>Closed</td><td> </td><td>TORRENS</td><td>266</td><td>AVE</td><td>SFD - Detached</td><td>Solar Domestic Ho...</td><td>6599</td><td>2009</td></tr>\n",
       "</table>\n",
       "only showing top 20 rows\n"
      ],
      "text/plain": [
       "DataFrame[APPLICATION_DATE: string, COMPLETED_DATE: string, DESCRIPTION: string, ISSUED_DATE: string, PERMIT_NUM: string, PERMIT_TYPE: string, POSTAL: string, REVISION_NUM: bigint, STATUS: string, STREET_DIRECTION: string, STREET_NAME: string, STREET_NUM: string, STREET_TYPE: string, STRUCTURE_TYPE: string, WORK: string, _id: bigint, year: int]"
      ]
     },
     "execution_count": 18,
     "metadata": {},
     "output_type": "execute_result"
    }
   ],
   "source": [
    "df_bucket"
   ]
  },
  {
   "cell_type": "code",
   "execution_count": null,
   "id": "10f4a743-3bcc-4bdd-9829-b2bdae8b8d19",
   "metadata": {},
   "outputs": [],
   "source": []
  }
 ],
 "metadata": {
  "kernelspec": {
   "display_name": "Pyspark 3",
   "language": "python",
   "name": "pyspark3"
  },
  "language_info": {
   "codemirror_mode": {
    "name": "ipython",
    "version": 3
   },
   "file_extension": ".py",
   "mimetype": "text/x-python",
   "name": "python",
   "nbconvert_exporter": "python",
   "pygments_lexer": "ipython3",
   "version": "3.6.9"
  }
 },
 "nbformat": 4,
 "nbformat_minor": 5
}
